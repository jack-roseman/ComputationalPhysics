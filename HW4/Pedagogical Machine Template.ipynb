{
 "cells": [
  {
   "cell_type": "code",
   "execution_count": 27,
   "metadata": {},
   "outputs": [
    {
     "name": "stdout",
     "output_type": "stream",
     "text": "[1.75 0.7  2.8  3.5 ]\n[3.26666667 3.26666667 3.26666667 6.53333333]\n[ 3.26666667  3.26666667  3.26666667 13.06666667]\n[4.9 0.  9.8 0. ]\n[0. 0. 0. 0.]\n"
    }
   ],
   "source": [
    "import numpy as np\n",
    "from solvematrix import *\n",
    "for i in range(0, 5):\n",
    "    m1 = 0.0\n",
    "    m2 = 0.0\n",
    "    m3 = 0.0\n",
    "\n",
    "    if i == 0:\n",
    "        m1 = 2.0\n",
    "        m2 = 5.0\n",
    "        m3 = 1.0\n",
    "    elif i == 1:\n",
    "        m1 = 2.0\n",
    "        m2 = 2.0\n",
    "        m3 = 2.0\n",
    "    elif i == 2:\n",
    "        m1 = 4.0\n",
    "        m2 = 4.0\n",
    "        m3 = 4.0\n",
    "    elif i == 3:\n",
    "        m1 = 0.0\n",
    "        m2 = 5.0\n",
    "        m3 = 1.0\n",
    "    elif i == 4:\n",
    "        m1 = 2.0\n",
    "        m2 = 5.0\n",
    "        m3 = 0.0\n",
    "\n",
    "    M = np.zeros([4, 4], float)\n",
    "    M[0,:] = [-m1, 0.0, 0.0, 1.0]\n",
    "    M[1,:] = [0.0, -m2, 0.0, 1.0]\n",
    "    M[2,:] = [0.0, 0.0, m3, 2.0]\n",
    "    M[3,:] = [2.0, -1.0, -1.0, 0.0]\n",
    "    b = np.array([0.0, 0.0, m3*9.8, 0.0])\n",
    "    print(\"{}\".format(solvematrix(M,b)))\n",
    "\n",
    "## output formatted as following: [a1, a2, a3, T]"
   ]
  },
  {
   "cell_type": "code",
   "execution_count": null,
   "metadata": {},
   "outputs": [],
   "source": []
  }
 ],
 "metadata": {
  "kernelspec": {
   "display_name": "Python 3",
   "language": "python",
   "name": "python3"
  },
  "language_info": {
   "codemirror_mode": {
    "name": "ipython",
    "version": 3
   },
   "file_extension": ".py",
   "mimetype": "text/x-python",
   "name": "python",
   "nbconvert_exporter": "python",
   "pygments_lexer": "ipython3",
   "version": "3.7.4-final"
  }
 },
 "nbformat": 4,
 "nbformat_minor": 2
}