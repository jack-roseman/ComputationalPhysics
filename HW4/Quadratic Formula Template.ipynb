{
 "cells": [
  {
   "cell_type": "markdown",
   "metadata": {},
   "source": [
    "## (a) Solution to $0.001x^2 + 1000x + 0.001 = 0$ using $x=\\frac{-b\\pm\\sqrt{b^2-4ac}}{2a}$"
   ]
  },
  {
   "cell_type": "code",
   "execution_count": 10,
   "metadata": {},
   "outputs": [
    {
     "name": "stdout",
     "output_type": "stream",
     "text": "Quadratic solutions are x = -9.999894245993345e-13 or x = -0.999999999999\n"
    }
   ],
   "source": [
    "# Code here for (a)\n",
    "from math import sqrt\n",
    "def solveQuadratic1(a,b,c):\n",
    "    x1 = (-b+sqrt(b**2 - 4*a*c))/2*a\n",
    "    x2 = (-b-sqrt(b**2 - 4*a*c))/2*a\n",
    "    print(\"Quadratic solutions are x = {} or x = {}\".format(x1, x2))\n",
    "\n",
    "solveQuadratic1(0.001, 1000, 0.001)"
   ]
  },
  {
   "cell_type": "markdown",
   "metadata": {},
   "source": [
    "## (b) Solution to $0.001x^2 + 1000x + 0.001 = 0$ using $x=\\frac{2c}{-b\\mp\\sqrt{b^2-4ac}}$"
   ]
  },
  {
   "cell_type": "code",
   "execution_count": 14,
   "metadata": {},
   "outputs": [
    {
     "name": "stdout",
     "output_type": "stream",
     "text": "Bad Quadratic solutions are x = -9.999894245993345e-13 or x = -0.999999999999\nBetter Quadratic solutions are x = -1000010.5755125057 or x = -1.000000000001e-06\n"
    }
   ],
   "source": [
    "# Code here for (b)\n",
    "def solveQuadratic2(a,b,c):\n",
    "    better1 = 2*c/(-b + sqrt(b**2 - 4*a*c))\n",
    "    better2 = 2*c/(-b - sqrt(b**2 - 4*a*c))\n",
    "\n",
    "    bad1 = (-b+sqrt(b**2 - 4*a*c))/2*a\n",
    "    bad2 = (-b-sqrt(b**2 - 4*a*c))/2*a\n",
    "\n",
    "    print(\"Bad Quadratic solutions are x = {} or x = {}\".format(bad1, bad2))\n",
    "    print(\"Better Quadratic solutions are x = {} or x = {}\".format(better1, better2))\n",
    "\n",
    "solveQuadratic2(0.001, 1000, 0.001)\n",
    "\n",
    "##The answers are different because of rounding errors of floating point arithmetic, instead of dividing by such a small number like 2*a, we are instead dividing 2*a=2*c by a larger number, so we dont lose floating point accuracy"
   ]
  },
  {
   "cell_type": "markdown",
   "metadata": {},
   "source": [
    "## (c) Most accurate solution to $0.001x^2 + 1000x + 0.001 = 0$ "
   ]
  },
  {
   "cell_type": "code",
   "execution_count": 34,
   "metadata": {},
   "outputs": [
    {
     "name": "stdout",
     "output_type": "stream",
     "text": "Accuracy Check 1: x1*x2 - (c/a) should be zero but is 1.05755135058061e-05 instead\nAccuracy Check 2: x1+x2+(b/a) should be zero but is -10.575513505726121 instead\nBetter Quadratic solutions are x = -1.000000000001e-06 or x = -1000010.5755125057\n"
    }
   ],
   "source": [
    "def solveQuadratic3(a,b,c):\n",
    "    better1 = 2*c/(-b + sqrt(b**2 - 4*a*c))\n",
    "    better2 = 2*c/(-b - sqrt(b**2 - 4*a*c))\n",
    "    x1 = max(better1, better2)\n",
    "    x2 = min(better1, better2)\n",
    "    print(\"Accuracy Check 1: x1*x2 - (c/a) should be zero but is {} instead\".format(x1*x2 - (c/a)))\n",
    "    print(\"Accuracy Check 2: x1+x2+(b/a) should be zero but is {} instead\".format(x1+x2+(b/a)))\n",
    "    print(\"Better Quadratic solutions are x = {} or x = {}\".format(x1, x2))\n",
    "\n",
    "\n",
    "\n",
    "solveQuadratic3(0.001, 1000, 0.001)"
   ]
  },
  {
   "cell_type": "code",
   "execution_count": null,
   "metadata": {},
   "outputs": [],
   "source": []
  }
 ],
 "metadata": {
  "kernelspec": {
   "display_name": "Python 3",
   "language": "python",
   "name": "python3"
  },
  "language_info": {
   "codemirror_mode": {
    "name": "ipython",
    "version": 3
   },
   "file_extension": ".py",
   "mimetype": "text/x-python",
   "name": "python",
   "nbconvert_exporter": "python",
   "pygments_lexer": "ipython3",
   "version": "3.7.4-final"
  }
 },
 "nbformat": 4,
 "nbformat_minor": 2
}