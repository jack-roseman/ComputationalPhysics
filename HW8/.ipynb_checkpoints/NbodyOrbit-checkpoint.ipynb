{
 "cells": [
  {
   "cell_type": "code",
   "execution_count": 211,
   "metadata": {
    "scrolled": false
   },
   "outputs": [
    {
     "data": {
      "text/html": [
       "<div id=\"glowscript\" class=\"glowscript\"></div>"
      ],
      "text/plain": [
       "<IPython.core.display.HTML object>"
      ]
     },
     "metadata": {},
     "output_type": "display_data"
    },
    {
     "data": {
      "application/javascript": [
       "if (typeof Jupyter !== \"undefined\") { window.__context = { glowscript_container: $(\"#glowscript\").removeAttr(\"id\")};}else{ element.textContent = ' ';}"
      ],
      "text/plain": [
       "<IPython.core.display.Javascript object>"
      ]
     },
     "metadata": {},
     "output_type": "display_data"
    },
    {
     "name": "stdout",
     "output_type": "stream",
     "text": [
      "Thus w = sqrt(mag(F_me)/(Mm*R)) =  2.648991319027756e-06 rad/s\n",
      "Which can also be computed with sqrt(G(Me+Mm)/(R^3)) =  2.665238204196964e-06 rad/s For Earth-Moon System\n",
      "Inital velocity for Earth =  [  0.         -12.45253491]\n",
      "Inital velocity for Moon =  [   0.         1012.06503079]\n"
     ]
    }
   ],
   "source": [
    "from numpy import sqrt, arange, array, sin, cos, pi\n",
    "from pylab import plot, xlabel, ylabel, show, title, legend\n",
    "import vpython as vp\n",
    "\n",
    "# Set up scene\n",
    "scene = vp.canvas(background = vp.color.white, width=600, height=600)\n",
    "\n",
    "def mag(r):\n",
    "    return sqrt(r[0]**2 + r[1]**2)\n",
    "\n",
    "def dire(r): #compute the direction vector r/|r|\n",
    "    return r/mag(r)\n",
    "    \n",
    "def force(r1, r2, m1, m2): #find the force of r2 from r1\n",
    "    r21 = r1 - r2 ##vector from 2 to 1\n",
    "    return -G*m1*m2*dir(r21)/mag(r21)**2\n",
    "\n",
    "\n",
    "t = 0\n",
    "dt = 3600 #1 hour in seconds\n",
    "Me = 5.972e24  #kg\n",
    "Mm = 7.348e22 #kg\n",
    "M1 = 1e10 #kg mass of object at L1\n",
    "M4 = 1e10 #kg mass of object at L4\n",
    "G = 6.67408e-11  #Nm^2/kg^2\n",
    "R = 3.844e8 #m\n",
    "w0 = sqrt(G*(Me+Mm)/(R**3))\n",
    "\n",
    "re = array([-Mm*R/(Mm+Me), 0], float)\n",
    "rm = array([Me*R/(Mm+Me), 0], float)\n",
    "\n",
    "e4 = R*array([cos(60*pi/180), sin(60*pi/180)], float)\n",
    "r1 = array([3.2170270438360560e8, 0], float) #vector to object at L1\n",
    "r4 = re + e4\n",
    "\n",
    "#add up forces exerted on the moon\n",
    "fme = force(rm, re, Mm, Me) #Force of earth on moon\n",
    "fm1 = force(rm, r1, Mm, M1) #Force of L1 sat on moon\n",
    "fm4 = force(rm, r4, Mm, M4) #Force of L4 sat on moon\n",
    "fmnet = fme + fm1 + fm4\n",
    "\n",
    "#add up forces exerted on the earth\n",
    "fem = force(re, rm, Me, Mm) #Force of moon on earth\n",
    "fe1 = force(re, r1, Me, M1) #Force of L1 sat on earth\n",
    "fe4 = force(re, r4, Me, M4) #Force of L4 sat on earth\n",
    "fenet = fem + fe1 + fe4\n",
    "\n",
    "#add up forces exerted on the L1 sat\n",
    "f1e = force(r1, re, M1, Me) # Force of earth on L1 sat\n",
    "f1m = force(r1, rm, M1, Mm) # Force of moon on L1 sat\n",
    "f14 = force(r1, r4, M1, M4) # Force of L4 sat on L1 sat\n",
    "f1net = f1e + f1m + f14\n",
    "\n",
    "#add up forces exerted on the L4 sat\n",
    "f4e = force(r4, re, M4, Me) # Force of earth on L4 sat\n",
    "f4m = force(r4, rm, M4, Mm) # Force of moon on L4 sat\n",
    "f41 = force(r4, r1, M4, M1) # Force of L1 sat on L4 sat\n",
    "f4net = f4e + f4m + f41\n",
    "\n",
    "ve = array([0, -w0*mag(re)], float) #velocity of earth\n",
    "vm = array([0, w0*mag(rm)], float) #velocity of moon\n",
    "v1 = array([0, w0*mag(r1)], float) #velocity of object at L1\n",
    "\n",
    "v4 = w0*mag(r4)*array([-dir(r4)[1], dir(r4)[0]], float) #velocity of object at L4\n",
    "\n",
    "print(\"Thus w = sqrt(mag(F_me)/(Mm*R)) = \", sqrt(mag(fme)/(Mm*R)), \"rad/s\")\n",
    "print(\"Which can also be computed with sqrt(G(Me+Mm)/(R^3)) = \", sqrt(G*(Me+Mm)/(R**3)), \"rad/s For Earth-Moon System\")\n",
    "print(\"Inital velocity for Earth = \", ve)\n",
    "print(\"Inital velocity for Moon = \", vm)\n",
    "\n",
    "repoints = [re]\n",
    "vepoints = [ve]\n",
    "aepoints = [fenet / Me]\n",
    "\n",
    "rmpoints = [rm]\n",
    "vmpoints = [vm]\n",
    "ampoints = [fmnet / Mm]\n",
    "\n",
    "r1points = [r1]\n",
    "v1points = [v1]\n",
    "a1points = [f1net / M1]\n",
    "\n",
    "r4points = [r4]\n",
    "v4points = [v4]\n",
    "a4points = [f4net / M4]\n",
    "\n",
    "e4points = [mag(r4 - re)]\n",
    "m4points = [mag(r4 - rm)]\n",
    "tpoints = [t]\n",
    "\n",
    "# Perform half step forward for Verlet method\n",
    "vmmid = vm + (fmnet / Mm)*0.5*dt\n",
    "vemid = ve + (fenet / Me)*0.5*dt\n",
    "v1mid = v1 + (f1net / M1)*0.5*dt\n",
    "v4mid = v4 + (f4net / M4)*0.5*dt\n",
    "\n",
    "norbit = 0\n",
    "\n",
    "# Coordinate axes\n",
    "axisRadius = 100000\n",
    "axisColor = vp.vector(0.5, 0.5, 0.5)\n",
    "\n",
    "xaxis = vp.cylinder(pos=vp.vector(-5,0,0), axis=vp.vector(1.5*R,0,0), radius = axisRadius, color=axisColor)\n",
    "yaxis = vp.cylinder(pos=vp.vector(0,-5,0), axis=vp.vector(0,1.5*R,0), radius = axisRadius, color=axisColor)\n",
    "zaxis = vp.cylinder(pos=vp.vector(0,0,-5), axis=vp.vector(0,0,1.5*R), radius = axisRadius, color=axisColor)\n",
    "vp.label(pos=xaxis.pos + xaxis.axis, text='x', height=10, box=False)\n",
    "vp.label(pos=yaxis.pos + yaxis.axis, text='y', height=10, box=False)\n",
    "vp.label(pos=zaxis.pos + zaxis.axis, text='z', height=10, box=False)\n",
    "\n",
    "#Objects in our scene\n",
    "earth = vp.sphere(pos=vp.vector(re[0], re[1], 0), size=vp.vector(3e7,3e7,3e7), color=vp.color.green, make_trail=True)\n",
    "moon = vp.sphere(pos=vp.vector(rm[0], rm[1], 0), size=vp.vector(1e7,1e7,1e7), color=vp.color.blue, make_trail=True)\n",
    "satelite1 = vp.sphere(pos=vp.vector(r1[0], r1[1], 0), size=vp.vector(1e7,1e7,1e7), color=vp.color.cyan, make_trail=True)\n",
    "satelite4 = vp.sphere(pos=vp.vector(r4[0], r4[1], 0), size=vp.vector(1e7,1e7,1e7), color=vp.color.red, make_trail=True)\n",
    "\n",
    "while norbit < 6:\n",
    "    vp.rate(20)\n",
    "    yold = rm[1]\n",
    "    \n",
    "    # Verlet method for the moon\n",
    "    re = re + vemid*dt\n",
    "    rm = rm + vmmid*dt\n",
    "    r1 = r1 + v1mid*dt\n",
    "    r4 = r4 + v4mid*dt\n",
    "    \n",
    "    earth.pos = vp.vector(re[0], re[1], 0)\n",
    "    moon.pos = vp.vector(rm[0], rm[1], 0)\n",
    "    satelite1.pos = vp.vector(r1[0], r1[1], 0)\n",
    "    satelite4.pos = vp.vector(r4[0], r4[1], 0)\n",
    "    \n",
    "    #Compute Moons acceleration vector\n",
    "    #add up forces exerted on the moon\n",
    "    fme = force(rm, re, Mm, Me) #Force of earth on moon\n",
    "    fm1 = force(rm, r1, Mm, M1) #Force of L1 sat on moon\n",
    "    fm4 = force(rm, r4, Mm, M4) #Force of L4 sat on moon\n",
    "    fmnet = fme + fm1 + fm4\n",
    "    am = fmnet / Mm #moons acceleration vector\n",
    "    \n",
    "    #Compute Earths acceleration vector\n",
    "    #add up forces exerted on the earth\n",
    "    fem = force(re, rm, Me, Mm) #Force of moon on earth\n",
    "    fe1 = force(re, r1, Me, M1) #Force of L1 sat on earth\n",
    "    fe4 = force(re, r4, Me, M4) #Force of L4 sat on earth\n",
    "    fenet = fem + fe1 + fe4\n",
    "    ae = fenet / Me #earths acceleration vector\n",
    "    \n",
    "    #Compute L1 sat acceleration vector\n",
    "    #add up forces exerted on the L1 sat\n",
    "    f1e = force(r1, re, M1, Me) # Force of earth on L1 sat\n",
    "    f1m = force(r1, rm, M1, Mm) # Force of moon on L1 sat\n",
    "    f14 = force(r1, r4, M1, M4) # Force of L4 sat on L1 sat\n",
    "    f1net = f1e + f1m + f14\n",
    "    a1 = f1net / M1\n",
    "    \n",
    "    #Compute L4 sat acceleration vector\n",
    "    #add up forces exerted on the L4 sat\n",
    "    f4e = force(r4, re, M4, Me) # Force of earth on L4 sat\n",
    "    f4m = force(r4, rm, M4, Mm) # Force of moon on L4 sat\n",
    "    f41 = force(r4, r1, M4, M1) # Force of L1 sat on L4 sat\n",
    "    f4net = f4e + f4m + f41\n",
    "    a4 = f4net / M4\n",
    "    \n",
    "    ve = vemid + ae*0.5*dt\n",
    "    vm = vmmid + am*0.5*dt\n",
    "    v1 = v1mid + a1*0.5*dt\n",
    "    v4 = v4mid + a4*0.5*dt\n",
    "    \n",
    "    vemid = vemid + ae*dt\n",
    "    vmmid = vmmid + am*dt\n",
    "    v1mid = v1mid + a1*dt\n",
    "    v4mid = v4mid + a4*dt\n",
    "    \n",
    "    t += dt\n",
    "    \n",
    "    repoints.append(re)\n",
    "    vepoints.append(ve)\n",
    "    aepoints.append(ae)\n",
    "    \n",
    "    rmpoints.append(rm)\n",
    "    vmpoints.append(vm)\n",
    "    ampoints.append(am)\n",
    "    \n",
    "    a1points.append(a1)\n",
    "    a4points.append(a4)\n",
    "    e4points.append(mag(r4 - re))\n",
    "    m4points.append(mag(r4 - rm))\n",
    "    tpoints.append(t)\n",
    "    \n",
    "    ynew = rm[1]\n",
    "    if yold < 0 and ynew > 0:\n",
    "        norbit += 1\n"
   ]
  },
  {
   "cell_type": "markdown",
   "metadata": {},
   "source": [
    "The Earth is wobbling but is is minuscule on these scales. If you zoom in close enough in the vpython animation and tilt the perspective, you can see that Earth is never quite centered and wobbles about the z axis. To further show how much the Earth wobbles, I will plot how its center of mass orbits below:"
   ]
  },
  {
   "cell_type": "code",
   "execution_count": 212,
   "metadata": {},
   "outputs": [
    {
     "data": {
      "image/png": "[encoded data removed]",
      "text/plain": [
       "<Figure size 432x288 with 1 Axes>"
      ]
     },
     "metadata": {
      "needs_background": "light"
     },
     "output_type": "display_data"
    }
   ],
   "source": [
    "# plot results\n",
    "plot([r[0] for r in repoints], [r[1] for r in repoints], \"r.\", markersize=0.5)\n",
    "title(\"Earth's COM in X-Y Space\")\n",
    "xlabel(\"x (m)\")\n",
    "ylabel(\"y (m)\")\n",
    "show()"
   ]
  },
  {
   "cell_type": "markdown",
   "metadata": {},
   "source": [
    "We can see from the cyan object that starts at L1, that it is not a stable circular orbit. Below I plot the acceleration of the L1 satellite over time and it starts off close very close to 0 (close to zero net force from both the Earth and Moon) but soon deviates causing it to leave L1 and persue another more stable orbit."
   ]
  },
  {
   "cell_type": "code",
   "execution_count": 213,
   "metadata": {},
   "outputs": [
    {
     "data": {
      "image/png": "[encoded data removed]",
      "text/plain": [
       "<Figure size 432x288 with 1 Axes>"
      ]
     },
     "metadata": {
      "needs_background": "light"
     },
     "output_type": "display_data"
    }
   ],
   "source": [
    "plot(tpoints,[mag(a) for a in a1points], \"b.\")\n",
    "title(\"Centripetal (radial) acceleration of L1 satellite\")\n",
    "xlabel(\"time (seconds)\")\n",
    "ylabel(\"centripetal acceleration (m/s^2)\")\n",
    "show()"
   ]
  },
  {
   "cell_type": "code",
   "execution_count": 214,
   "metadata": {},
   "outputs": [
    {
     "data": {
      "image/png": "[encoded data removed]",
      "text/plain": [
       "<Figure size 432x288 with 1 Axes>"
      ]
     },
     "metadata": {
      "needs_background": "light"
     },
     "output_type": "display_data"
    }
   ],
   "source": [
    "plot(tpoints,e4points, \"b.\", label=\"L4 to Earth\", markersize=0.65)\n",
    "plot(tpoints,m4points, \"g.\", label=\"L4 to Moon\", markersize=0.65)\n",
    "title(\"Distance to L4 satellite\")\n",
    "xlabel(\"time (seconds)\")\n",
    "ylabel(\"distance (m)\")\n",
    "legend()\n",
    "show()"
   ]
  },
  {
   "cell_type": "markdown",
   "metadata": {},
   "source": [
    "Notice that the distance from L4 satellite to Earth and moon is stable (they overlap)"
   ]
  },
  {
   "cell_type": "markdown",
   "metadata": {},
   "source": [
    "Part d - same code as in part c except slight change in initial condition"
   ]
  },
  {
   "cell_type": "code",
   "execution_count": 207,
   "metadata": {},
   "outputs": [
    {
     "data": {
      "text/html": [
       "<div id=\"glowscript\" class=\"glowscript\"></div>"
      ],
      "text/plain": [
       "<IPython.core.display.HTML object>"
      ]
     },
     "metadata": {},
     "output_type": "display_data"
    },
    {
     "data": {
      "application/javascript": [
       "if (typeof Jupyter !== \"undefined\") { window.__context = { glowscript_container: $(\"#glowscript\").removeAttr(\"id\")};}else{ element.textContent = ' ';}"
      ],
      "text/plain": [
       "<IPython.core.display.Javascript object>"
      ]
     },
     "metadata": {},
     "output_type": "display_data"
    },
    {
     "name": "stdout",
     "output_type": "stream",
     "text": [
      "Thus w = sqrt(mag(F_me)/(Mm*R)) =  2.648991319027756e-06 rad/s\n",
      "Which can also be computed with sqrt(G(Me+Mm)/(R^3)) =  2.665238204196964e-06 rad/s For Earth-Moon System\n",
      "Inital velocity for Earth =  [  0.         -12.45253491]\n",
      "Inital velocity for Moon =  [   0.         1012.06503079]\n"
     ]
    }
   ],
   "source": [
    "from numpy import sqrt, arange, array, sin, cos, pi\n",
    "from pylab import plot, xlabel, ylabel, show, title, legend\n",
    "import vpython as vp\n",
    "\n",
    "# Set up scene\n",
    "scene = vp.canvas(background = vp.color.white, width=600, height=600)\n",
    "\n",
    "def mag(r):\n",
    "    return sqrt(r[0]**2 + r[1]**2)\n",
    "\n",
    "def dire(r): #compute the direction vector r/|r|\n",
    "    return r/mag(r)\n",
    "    \n",
    "def force(r1, r2, m1, m2): #find the force of r2 from r1\n",
    "    r21 = r1 - r2 ##vector from 2 to 1\n",
    "    return -G*m1*m2*dir(r21)/mag(r21)**2\n",
    "\n",
    "\n",
    "t = 0\n",
    "dt = 3600 #1 hour in seconds\n",
    "Me = 5.972e24  #kg\n",
    "Mm = 7.348e22 #kg\n",
    "M1 = 1e10 #kg mass of object at L1\n",
    "M4 = 1e10 #kg mass of object at L4\n",
    "G = 6.67408e-11  #Nm^2/kg^2\n",
    "R = 3.844e8 #m\n",
    "w0 = sqrt(G*(Me+Mm)/(R**3))\n",
    "\n",
    "re = array([-Mm*R/(Mm+Me), 0], float)\n",
    "rm = array([Me*R/(Mm+Me), 0], float)\n",
    "\n",
    "e4 = R*array([cos(60*pi/180), sin(60*pi/180)], float)\n",
    "r1 = array([3.2170270438360560e8, 0], float) #vector to object at L1\n",
    "r4 = re + e4\n",
    "\n",
    "#add up forces exerted on the moon\n",
    "fme = force(rm, re, Mm, Me) #Force of earth on moon\n",
    "fm1 = force(rm, r1, Mm, M1) #Force of L1 sat on moon\n",
    "fm4 = force(rm, r4, Mm, M4) #Force of L4 sat on moon\n",
    "fmnet = fme + fm1 + fm4\n",
    "\n",
    "#add up forces exerted on the earth\n",
    "fem = force(re, rm, Me, Mm) #Force of moon on earth\n",
    "fe1 = force(re, r1, Me, M1) #Force of L1 sat on earth\n",
    "fe4 = force(re, r4, Me, M4) #Force of L4 sat on earth\n",
    "fenet = fem + fe1 + fe4\n",
    "\n",
    "#add up forces exerted on the L1 sat\n",
    "f1e = force(r1, re, M1, Me) # Force of earth on L1 sat\n",
    "f1m = force(r1, rm, M1, Mm) # Force of moon on L1 sat\n",
    "f14 = force(r1, r4, M1, M4) # Force of L4 sat on L1 sat\n",
    "f1net = f1e + f1m + f14\n",
    "\n",
    "#add up forces exerted on the L4 sat\n",
    "f4e = force(r4, re, M4, Me) # Force of earth on L4 sat\n",
    "f4m = force(r4, rm, M4, Mm) # Force of moon on L4 sat\n",
    "f41 = force(r4, r1, M4, M1) # Force of L1 sat on L4 sat\n",
    "f4net = f4e + f4m + f41\n",
    "\n",
    "ve = array([0, -w0*mag(re)], float) #velocity of earth\n",
    "vm = array([0, w0*mag(rm)], float) #velocity of moon\n",
    "v1 = array([0, w0*mag(r1)], float) #velocity of object at L1\n",
    "\n",
    "v4 = w0*mag(r4)*array([-dir(r4)[1], 0.99*dir(r4)[0]], float) #velocity of object at L4\n",
    "\n",
    "print(\"Thus w = sqrt(mag(F_me)/(Mm*R)) = \", sqrt(mag(fme)/(Mm*R)), \"rad/s\")\n",
    "print(\"Which can also be computed with sqrt(G(Me+Mm)/(R^3)) = \", sqrt(G*(Me+Mm)/(R**3)), \"rad/s For Earth-Moon System\")\n",
    "print(\"Inital velocity for Earth = \", ve)\n",
    "print(\"Inital velocity for Moon = \", vm)\n",
    "\n",
    "repoints = [re]\n",
    "vepoints = [ve]\n",
    "aepoints = [fenet / Me]\n",
    "\n",
    "rmpoints = [rm]\n",
    "vmpoints = [vm]\n",
    "ampoints = [fmnet / Mm]\n",
    "\n",
    "r1points = [r1]\n",
    "v1points = [v1]\n",
    "a1points = [f1net / M1]\n",
    "\n",
    "r4points = [r4]\n",
    "v4points = [v4]\n",
    "a4points = [f4net / M4]\n",
    "\n",
    "e4points = [mag(r4 - re)]\n",
    "m4points = [mag(r4 - rm)]\n",
    "tpoints = [t]\n",
    "\n",
    "# Perform half step forward for Verlet method\n",
    "vmmid = vm + (fmnet / Mm)*0.5*dt\n",
    "vemid = ve + (fenet / Me)*0.5*dt\n",
    "v1mid = v1 + (f1net / M1)*0.5*dt\n",
    "v4mid = v4 + (f4net / M4)*0.5*dt\n",
    "\n",
    "norbit = 0\n",
    "\n",
    "# Coordinate axes\n",
    "axisRadius = 100000\n",
    "axisColor = vp.vector(0.5, 0.5, 0.5)\n",
    "\n",
    "xaxis = vp.cylinder(pos=vp.vector(-5,0,0), axis=vp.vector(1.5*R,0,0), radius = axisRadius, color=axisColor)\n",
    "yaxis = vp.cylinder(pos=vp.vector(0,-5,0), axis=vp.vector(0,1.5*R,0), radius = axisRadius, color=axisColor)\n",
    "zaxis = vp.cylinder(pos=vp.vector(0,0,-5), axis=vp.vector(0,0,1.5*R), radius = axisRadius, color=axisColor)\n",
    "vp.label(pos=xaxis.pos + xaxis.axis, text='x', height=10, box=False)\n",
    "vp.label(pos=yaxis.pos + yaxis.axis, text='y', height=10, box=False)\n",
    "vp.label(pos=zaxis.pos + zaxis.axis, text='z', height=10, box=False)\n",
    "\n",
    "#Objects in our scene\n",
    "earth = vp.sphere(pos=vp.vector(re[0], re[1], 0), size=vp.vector(3e7,3e7,3e7), color=vp.color.green, make_trail=False)\n",
    "moon = vp.sphere(pos=vp.vector(rm[0], rm[1], 0), size=vp.vector(1e7,1e7,1e7), color=vp.color.blue, make_trail=True)\n",
    "satelite1 = vp.sphere(pos=vp.vector(r1[0], r1[1], 0), size=vp.vector(1e7,1e7,1e7), color=vp.color.cyan, make_trail=True)\n",
    "satelite4 = vp.sphere(pos=vp.vector(r4[0], r4[1], 0), size=vp.vector(1e7,1e7,1e7), color=vp.color.red, make_trail=True)\n",
    "\n",
    "while norbit < 6:\n",
    "    vp.rate(20)\n",
    "    yold = rm[1]\n",
    "    \n",
    "    # Verlet method for the moon\n",
    "    re = re + vemid*dt\n",
    "    rm = rm + vmmid*dt\n",
    "    r1 = r1 + v1mid*dt\n",
    "    r4 = r4 + v4mid*dt\n",
    "    \n",
    "    earth.pos = vp.vector(re[0], re[1], 0)\n",
    "    moon.pos = vp.vector(rm[0], rm[1], 0)\n",
    "    satelite1.pos = vp.vector(r1[0], r1[1], 0)\n",
    "    satelite4.pos = vp.vector(r4[0], r4[1], 0)\n",
    "    \n",
    "    #Compute Moons acceleration vector\n",
    "    #add up forces exerted on the moon\n",
    "    fme = force(rm, re, Mm, Me) #Force of earth on moon\n",
    "    fm1 = force(rm, r1, Mm, M1) #Force of L1 sat on moon\n",
    "    fm4 = force(rm, r4, Mm, M4) #Force of L4 sat on moon\n",
    "    fmnet = fme + fm1 + fm4\n",
    "    am = fmnet / Mm #moons acceleration vector\n",
    "    \n",
    "    #Compute Earths acceleration vector\n",
    "    #add up forces exerted on the earth\n",
    "    fem = force(re, rm, Me, Mm) #Force of moon on earth\n",
    "    fe1 = force(re, r1, Me, M1) #Force of L1 sat on earth\n",
    "    fe4 = force(re, r4, Me, M4) #Force of L4 sat on earth\n",
    "    fenet = fem + fe1 + fe4\n",
    "    ae = fenet / Me #earths acceleration vector\n",
    "    \n",
    "    #Compute L1 sat acceleration vector\n",
    "    #add up forces exerted on the L1 sat\n",
    "    f1e = force(r1, re, M1, Me) # Force of earth on L1 sat\n",
    "    f1m = force(r1, rm, M1, Mm) # Force of moon on L1 sat\n",
    "    f14 = force(r1, r4, M1, M4) # Force of L4 sat on L1 sat\n",
    "    f1net = f1e + f1m + f14\n",
    "    a1 = f1net / M1\n",
    "    \n",
    "    #Compute L4 sat acceleration vector\n",
    "    #add up forces exerted on the L4 sat\n",
    "    f4e = force(r4, re, M4, Me) # Force of earth on L4 sat\n",
    "    f4m = force(r4, rm, M4, Mm) # Force of moon on L4 sat\n",
    "    f41 = force(r4, r1, M4, M1) # Force of L1 sat on L4 sat\n",
    "    f4net = f4e + f4m + f41\n",
    "    a4 = f4net / M4\n",
    "    \n",
    "    ve = vemid + ae*0.5*dt\n",
    "    vm = vmmid + am*0.5*dt\n",
    "    v1 = v1mid + a1*0.5*dt\n",
    "    v4 = v4mid + a4*0.5*dt\n",
    "    \n",
    "    vemid = vemid + ae*dt\n",
    "    vmmid = vmmid + am*dt\n",
    "    v1mid = v1mid + a1*dt\n",
    "    v4mid = v4mid + a4*dt\n",
    "    \n",
    "    t += dt\n",
    "    \n",
    "    repoints.append(re)\n",
    "    vepoints.append(ve)\n",
    "    aepoints.append(ae)\n",
    "    \n",
    "    rmpoints.append(rm)\n",
    "    vmpoints.append(vm)\n",
    "    ampoints.append(am)\n",
    "    \n",
    "    a1points.append(a1)\n",
    "    a4points.append(a4)\n",
    "    e4points.append(mag(r4 - re))\n",
    "    m4points.append(mag(r4 - rm))\n",
    "    tpoints.append(t)\n",
    "    \n",
    "    ynew = rm[1]\n",
    "    if yold < 0 and ynew > 0:\n",
    "        norbit += 1\n"
   ]
  },
  {
   "cell_type": "code",
   "execution_count": 209,
   "metadata": {},
   "outputs": [
    {
     "data": {
      "image/png": "[encoded data removed]",
      "text/plain": [
       "<Figure size 432x288 with 1 Axes>"
      ]
     },
     "metadata": {
      "needs_background": "light"
     },
     "output_type": "display_data"
    }
   ],
   "source": [
    "plot(tpoints,e4points, \"b.\", label=\"L4 to Earth\", markersize=0.65)\n",
    "plot(tpoints,m4points, \"g.\", label=\"L4 to Moon\", markersize=0.65)\n",
    "title(\"Distance to L4 satellite\")\n",
    "xlabel(\"time (seconds)\")\n",
    "ylabel(\"distance (m)\")\n",
    "legend()\n",
    "show()"
   ]
  },
  {
   "cell_type": "code",
   "execution_count": null,
   "metadata": {},
   "outputs": [],
   "source": []
  },
  {
   "cell_type": "code",
   "execution_count": null,
   "metadata": {},
   "outputs": [],
   "source": []
  }
 ],
 "metadata": {
  "kernelspec": {
   "display_name": "Python 3",
   "language": "python",
   "name": "python3"
  },
  "language_info": {
   "codemirror_mode": {
    "name": "ipython",
    "version": 3
   },
   "file_extension": ".py",
   "mimetype": "text/x-python",
   "name": "python",
   "nbconvert_exporter": "python",
   "pygments_lexer": "ipython3",
   "version": "3.7.6"
  }
 },
 "nbformat": 4,
 "nbformat_minor": 4
}
