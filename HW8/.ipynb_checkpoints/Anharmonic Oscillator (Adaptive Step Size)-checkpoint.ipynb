{
 "cells": [
  {
   "cell_type": "code",
   "execution_count": 3,
   "metadata": {},
   "outputs": [
    {
     "data": {
      "image/png": "[encoded data removed]",
      "text/plain": [
       "<Figure size 432x288 with 1 Axes>"
      ]
     },
     "metadata": {
      "needs_background": "light"
     },
     "output_type": "display_data"
    }
   ],
   "source": [
    "from numpy import array\n",
    "from pylab import plot, show, xlabel\n",
    "\n",
    "# x-component of acceleration\n",
    "def ax(x):\n",
    "    return -x**9\n",
    "\n",
    "def f(r):\n",
    "    # unpack variables\n",
    "    x = r[0]\n",
    "    v = r[1]\n",
    "    \n",
    "    # function definitions\n",
    "    fx = v        # dx/dt = fx\n",
    "    fv = ax(x)    # dvx/dt = fvx\n",
    "    \n",
    "    return array([fx, fv], float)\n",
    "\n",
    "# initial conditions\n",
    "t = 0.0                  # initial time (s)\n",
    "x = 5.0                  # initial position (m)\n",
    "v = 0.0                  # initial velocity (m/s)\n",
    "h = 1e-3                 # initial step size (s)\n",
    "r = array([x, v], float) # initial array\n",
    "numcross = 0             # number of x = 0 crossings from left to right\n",
    "delta = 1e-6             # desired accuracy (m per second)\n",
    "\n",
    "# lists of data\n",
    "tlist = [t]\n",
    "xlist = [x]\n",
    "vlist = [v]\n",
    "alist = [ax(x)]\n",
    "hlist = [h]\n",
    "\n",
    "\n",
    "while numcross <= 2:\n",
    "    \n",
    "    # do one large step\n",
    "    k1 = 2*h*f(r)\n",
    "    k2 = 2*h*f(r + 0.5*k1)\n",
    "    k3 = 2*h*f(r + 0.5*k2)\n",
    "    k4 = 2*h*f(r + k3)\n",
    "    r1 = r + (k1 + 2*k2 + 2*k3 + k4)/6\n",
    "    \n",
    "    # do two small steps\n",
    "    k1 = h*f(r)\n",
    "    k2 = h*f(r + 0.5*k1)\n",
    "    k3 = h*f(r + 0.5*k2)\n",
    "    k4 = h*f(r + k3)\n",
    "    r2 = r + (k1 + 2*k2 + 2*k3 + k4)/6\n",
    "    \n",
    "    k1 = h*f(r2)\n",
    "    k2 = h*f(r2 + 0.5*k1)\n",
    "    k3 = h*f(r2 + 0.5*k2)\n",
    "    k4 = h*f(r2 + k3)\n",
    "    r2 += (k1 + 2*k2 + 2*k3 + k4)/6\n",
    "    \n",
    "    # calculate rho\n",
    "    x1 = r1[0]\n",
    "    x2 = r2[0]\n",
    "    rho = 30*h*delta/abs(x1-x2)\n",
    "    \n",
    "    # if rho >= 1.0, increase step size, save data\n",
    "    if rho >= 1.0:\n",
    "        t += 2*h                  # increase t\n",
    "        h *= min(rho**0.25, 2.0)  # increase h\n",
    "        \n",
    "        xold = r[0]               \n",
    "        r = r2                    # update r\n",
    "        xnew = r[0]\n",
    "        \n",
    "        # determine if particle crossed x = 0 from left to right\n",
    "        if xnew > 0 and xold < 0:\n",
    "            numcross += 1\n",
    "        \n",
    "        # save data\n",
    "        tlist.append(t)\n",
    "        xlist.append(r[0])\n",
    "        vlist.append(r[1])\n",
    "        alist.append(ax(r[0]))\n",
    "        hlist.append(h)\n",
    "        \n",
    "    # if rho <= 1.0, decrease step size, repeat   \n",
    "    else:\n",
    "        h *= rho**0.25\n",
    "        \n",
    "plot(tlist, xlist, \"r.\")\n",
    "xlabel(\"Time\")\n",
    "show()"
   ]
  },
  {
   "cell_type": "markdown",
   "metadata": {},
   "source": [
    "Notice that the step sizes are small (data points closely spaced) when the acceleration is large. When the acceleration is small, the step sizes are larger"
   ]
  },
  {
   "cell_type": "code",
   "execution_count": 4,
   "metadata": {},
   "outputs": [
    {
     "data": {
      "text/plain": [
       "[<matplotlib.lines.Line2D at 0x25d50857588>]"
      ]
     },
     "execution_count": 4,
     "metadata": {},
     "output_type": "execute_result"
    },
    {
     "data": {
      "image/png": "[encoded data removed]",
      "text/plain": [
       "<Figure size 432x288 with 1 Axes>"
      ]
     },
     "metadata": {
      "needs_background": "light"
     },
     "output_type": "display_data"
    }
   ],
   "source": [
    "plot(tlist, hlist)"
   ]
  },
  {
   "cell_type": "code",
   "execution_count": null,
   "metadata": {},
   "outputs": [],
   "source": []
  }
 ],
 "metadata": {
  "kernelspec": {
   "display_name": "Python 3",
   "language": "python",
   "name": "python3"
  },
  "language_info": {
   "codemirror_mode": {
    "name": "ipython",
    "version": 3
   },
   "file_extension": ".py",
   "mimetype": "text/x-python",
   "name": "python",
   "nbconvert_exporter": "python",
   "pygments_lexer": "ipython3",
   "version": "3.7.6"
  },
  "varInspector": {
   "cols": {
    "lenName": 16,
    "lenType": 16,
    "lenVar": 40
   },
   "kernels_config": {
    "python": {
     "delete_cmd_postfix": "",
     "delete_cmd_prefix": "del ",
     "library": "var_list.py",
     "varRefreshCmd": "print(var_dic_list())"
    },
    "r": {
     "delete_cmd_postfix": ") ",
     "delete_cmd_prefix": "rm(",
     "library": "var_list.r",
     "varRefreshCmd": "cat(var_dic_list()) "
    }
   },
   "types_to_exclude": [
    "module",
    "function",
    "builtin_function_or_method",
    "instance",
    "_Feature"
   ],
   "window_display": false
  }
 },
 "nbformat": 4,
 "nbformat_minor": 2
}
