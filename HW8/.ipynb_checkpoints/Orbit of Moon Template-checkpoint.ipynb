{
 "cells": [
  {
   "cell_type": "markdown",
   "metadata": {},
   "source": [
    "## (a) Orbit of the Moon"
   ]
  },
  {
   "cell_type": "code",
   "execution_count": 79,
   "metadata": {},
   "outputs": [
    {
     "name": "stdout",
     "output_type": "stream",
     "text": [
      "0.022235870361328125 seconds\n"
     ]
    },
    {
     "data": {
      "image/png": "[encoded data removed]",
      "text/plain": [
       "<Figure size 432x288 with 1 Axes>"
      ]
     },
     "metadata": {
      "needs_background": "light"
     },
     "output_type": "display_data"
    }
   ],
   "source": [
    "from numpy import sqrt, arange, array\n",
    "from pylab import plot, xlabel, ylabel, show, title\n",
    "\n",
    "import time\n",
    "start = time.time()\n",
    "\n",
    "def a(r):\n",
    "    d = sqrt(r[0]**2 + r[1]**2)\n",
    "    return -G*M*r/d**3\n",
    "\n",
    "t = 0\n",
    "dt = 3600 #1 hour in seconds\n",
    "M = 5.972e24  #kg\n",
    "G = 6.67408e-11  #Nm^2/kg^2\n",
    "x0 = 3.626e8  #m\n",
    "y0 = 0.0 #m\n",
    "vx0 = 0.0 #m/s\n",
    "vy0 = 1.077e3 #m/s\n",
    "xpoints = [x0]\n",
    "ypoints = [y0]\n",
    "tpoints = arange(0, 648*dt, dt)\n",
    "\n",
    "r = array([x0, y0], float)\n",
    "v = array([vx0, vy0], float)\n",
    "\n",
    "# Perform half step forward for Verlet method\n",
    "vmid = v + a(r)*0.5*dt\n",
    "\n",
    "norbit = 0\n",
    "\n",
    "while norbit < 1:\n",
    "    yold = r[1]\n",
    "    # Verlet method\n",
    "    r = r + vmid*dt\n",
    "    v = vmid + a(r)*0.5*dt\n",
    "    vmid = vmid + a(r)*dt\n",
    "    t += dt\n",
    "    \n",
    "    xpoints.append(r[0])\n",
    "    ypoints.append(r[1])\n",
    "    \n",
    "    ynew = r[1]\n",
    "    if yold < 0 and ynew > 0:\n",
    "        norbit += 1\n",
    "\n",
    "print(time.time() - start, \"seconds\")\n",
    "# plot results\n",
    "plot(0, 0, \"g.\") #earth\n",
    "plot(xpoints, ypoints, \".\")\n",
    "title(\"1 orbit\")\n",
    "xlabel(\"x (m)\")\n",
    "ylabel(\"y (m)\")\n",
    "show()"
   ]
  },
  {
   "cell_type": "markdown",
   "metadata": {},
   "source": [
    "## (b) Energy plots"
   ]
  },
  {
   "cell_type": "code",
   "execution_count": null,
   "metadata": {},
   "outputs": [],
   "source": []
  },
  {
   "cell_type": "markdown",
   "metadata": {},
   "source": [
    "## (c) Total Energy plot"
   ]
  },
  {
   "cell_type": "code",
   "execution_count": null,
   "metadata": {},
   "outputs": [],
   "source": []
  }
 ],
 "metadata": {
  "kernelspec": {
   "display_name": "Python 3",
   "language": "python",
   "name": "python3"
  },
  "language_info": {
   "codemirror_mode": {
    "name": "ipython",
    "version": 3
   },
   "file_extension": ".py",
   "mimetype": "text/x-python",
   "name": "python",
   "nbconvert_exporter": "python",
   "pygments_lexer": "ipython3",
   "version": "3.7.6"
  }
 },
 "nbformat": 4,
 "nbformat_minor": 2
}
