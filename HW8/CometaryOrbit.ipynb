{
 "cells": [
  {
   "cell_type": "code",
   "execution_count": 8,
   "metadata": {},
   "outputs": [
    {
     "name": "stdout",
     "output_type": "stream",
     "text": [
      "10.176785945892334 seconds\n"
     ]
    },
    {
     "data": {
      "image/png": "[encoded data removed]",
      "text/plain": [
       "<Figure size 432x288 with 1 Axes>"
      ]
     },
     "metadata": {
      "needs_background": "light"
     },
     "output_type": "display_data"
    }
   ],
   "source": [
    "##Part a - fixed step size\n",
    "#parameters\n",
    "from numpy import sqrt, arange, array\n",
    "from pylab import plot, xlabel, ylabel, show, title\n",
    "import time\n",
    "\n",
    "start = time.time()\n",
    "def f(r):\n",
    "    # unpack variable\n",
    "    x, y = r[0], r[1]\n",
    "    vx, vy = r[2], r[3]\n",
    "    # function \n",
    "    d = sqrt(x**2 + y**2)\n",
    "    fx = vx         # dx/dt = vx\n",
    "    fy = vy        # dy/dt = vy\n",
    "    fvx = -G*M*x/(d**3) #d^2x/dt^2 = fvx\n",
    "    fvy = -G*M*y/(d**3) #d^2y/dt^2 = fvx\n",
    "    return array([fx, fy, fvx, fvy], float) #dr\n",
    "\n",
    "h = 2e4\n",
    "M = 1.989e30  #kg\n",
    "G = 6.67e-11  #Nm^2/kg^2\n",
    "x0 = 4e12  #m\n",
    "y0 = 0.00 #m\n",
    "vx0 = 0.00 #m/s\n",
    "vy0 = 500.0 #m/s\n",
    "xpoints = [x0]\n",
    "ypoints = [y0]\n",
    "\n",
    "\n",
    "r = array([x0, y0, vx0, vy0], float)\n",
    "\n",
    "norbit = 0\n",
    "while norbit < 2:\n",
    "    yold = r[1]\n",
    "    #4th order Runge Kutta\n",
    "    k1 = h*f(r)\n",
    "    k2 = h*f(r + 0.5*k1)\n",
    "    k3 = h*f(r + 0.5*k2)\n",
    "    k4 = h*f(r + k3)\n",
    "    r = r + (k1 + 2*k2 + 2*k3 + k4)/6\n",
    "    xpoints.append(r[0])\n",
    "    ypoints.append(r[1])\n",
    "    ynew = r[1]\n",
    "    if yold < 0 and ynew > 0:\n",
    "        norbit += 1\n",
    "\n",
    "print(time.time() - start, \"seconds\")\n",
    "# plot results\n",
    "plot(xpoints, ypoints, \".\", markersize=0.01)\n",
    "title(\"2 orbits, fixed h = 2e4\")\n",
    "xlabel(\"x (m)\")\n",
    "ylabel(\"y (m)\")\n",
    "show()\n"
   ]
  },
  {
   "cell_type": "code",
   "execution_count": 64,
   "metadata": {},
   "outputs": [
    {
     "name": "stdout",
     "output_type": "stream",
     "text": [
      "0.11347317695617676 seconds\n"
     ]
    },
    {
     "data": {
      "image/png": "[encoded data removed]",
      "text/plain": [
       "<Figure size 432x288 with 1 Axes>"
      ]
     },
     "metadata": {
      "needs_background": "light"
     },
     "output_type": "display_data"
    }
   ],
   "source": [
    "##Part b - adaptive step size\n",
    "#parameters\n",
    "from numpy import sqrt, arange, array\n",
    "from pylab import plot, xlabel, ylabel, show, title\n",
    "\n",
    "import time\n",
    "\n",
    "start = time.time()\n",
    "\n",
    "def f(r):\n",
    "    # unpack variable\n",
    "    x, y = r[0], r[1]\n",
    "    vx, vy = r[2], r[3]\n",
    "    # function \n",
    "    d = sqrt(x**2 + y**2)\n",
    "    fx = vx         # dx/dt = vx\n",
    "    fy = vy        # dy/dt = vy\n",
    "    fvx = -G*M*x/(d**3) #d^2x/dt^2 = fvx\n",
    "    fvy = -G*M*y/(d**3) #d^2y/dt^2 = fvx\n",
    "    return array([fx, fy, fvx, fvy], float) #dr\n",
    "\n",
    "t = 0\n",
    "h = 5e7\n",
    "M = 1.989e30  #kg\n",
    "G = 6.67e-11  #Nm^2/kg^2\n",
    "x0 = 4e12  #m\n",
    "y0 = 0.00 #m\n",
    "vx0 = 0.00 #m/s\n",
    "vy0 = 500.0 #m/s\n",
    "xpoints = [x0]\n",
    "ypoints = [y0]\n",
    "delta = 3.17098e-5             # desired accuracy (m per second)\n",
    "\n",
    "r = array([x0, y0, vx0, vy0], float)\n",
    "\n",
    "norbit = 0\n",
    "while norbit < 1:\n",
    "    \n",
    "    # do one large step\n",
    "    k1 = 2*h*f(r)\n",
    "    k2 = 2*h*f(r + 0.5*k1)\n",
    "    k3 = 2*h*f(r + 0.5*k2)\n",
    "    k4 = 2*h*f(r + k3)\n",
    "    r1 = r + (k1 + 2*k2 + 2*k3 + k4)/6\n",
    "    \n",
    "    # do two small steps\n",
    "    k1 = h*f(r)\n",
    "    k2 = h*f(r + 0.5*k1)\n",
    "    k3 = h*f(r + 0.5*k2)\n",
    "    k4 = h*f(r + k3)\n",
    "    r2 = r + (k1 + 2*k2 + 2*k3 + k4)/6\n",
    "    \n",
    "    k1 = h*f(r2)\n",
    "    k2 = h*f(r2 + 0.5*k1)\n",
    "    k3 = h*f(r2 + 0.5*k2)\n",
    "    k4 = h*f(r2 + k3)\n",
    "    r2 += (k1 + 2*k2 + 2*k3 + k4)/6\n",
    "    \n",
    "    # calculate rho\n",
    "    x1 = r1[0]\n",
    "    x2 = r2[0]\n",
    "    rho = 30*h*delta/abs(x1-x2)\n",
    "    \n",
    "    # if rho >= 1.0, increase step size, save data\n",
    "    if rho >= 1.0:\n",
    "        h *= min(rho**0.25, 2.0)  # increase h\n",
    "        \n",
    "        yold = r[1]               \n",
    "        r = r2                    # update r\n",
    "        ynew = r[1]\n",
    "        \n",
    "        # determine if particle crossed x = 0 from left to right\n",
    "        if yold < 0 and ynew > 0:\n",
    "            norbit += 1\n",
    "        \n",
    "        # save data\n",
    "        xpoints.append(r[0])\n",
    "        ypoints.append(r[1])\n",
    "        \n",
    "    # if rho <= 1.0, decrease step size, repeat   \n",
    "    else:\n",
    "        h *= rho**0.25\n",
    "    \n",
    "\n",
    "print(time.time() - start, \"seconds\")\n",
    "# plot results\n",
    "plot(xpoints, ypoints, \".\", markersize=0.75)\n",
    "title(\"1 orbit, adaptive h\")\n",
    "xlabel(\"x (m)\")\n",
    "ylabel(\"y (m)\")\n",
    "show()\n"
   ]
  },
  {
   "cell_type": "markdown",
   "metadata": {},
   "source": [
    "Note the difference in the time it takes to compute part a (around 10 seconds) compared to part b (less than a second), without loss of major accuracy. For fixed h, I found that h = 2e4 is good enough to accurately compute the full orbit so that the comet comes back to exactly where it started"
   ]
  },
  {
   "cell_type": "code",
   "execution_count": null,
   "metadata": {},
   "outputs": [],
   "source": []
  }
 ],
 "metadata": {
  "kernelspec": {
   "display_name": "Python 3",
   "language": "python",
   "name": "python3"
  },
  "language_info": {
   "codemirror_mode": {
    "name": "ipython",
    "version": 3
   },
   "file_extension": ".py",
   "mimetype": "text/x-python",
   "name": "python",
   "nbconvert_exporter": "python",
   "pygments_lexer": "ipython3",
   "version": "3.7.6"
  }
 },
 "nbformat": 4,
 "nbformat_minor": 4
}
