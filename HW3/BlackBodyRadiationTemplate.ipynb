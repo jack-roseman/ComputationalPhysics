{
 "cells": [
  {
   "cell_type": "markdown",
   "metadata": {},
   "source": [
    "# (a) Variable Substitution\n",
    "\n",
    "Explain here in words how $x$ and $\\omega$ are related\n",
    "\n",
    "$x$ = ħ*$\\omega$ / k*T, is the substitution that results in a cleaner integral"
   ]
  },
  {
   "cell_type": "markdown",
   "metadata": {},
   "source": [
    "# (b) Stefan-Boltzmann Constant"
   ]
  },
  {
   "cell_type": "code",
   "execution_count": 1,
   "metadata": {},
   "outputs": [
    {
     "name": "stdout",
     "output_type": "stream",
     "text": "Integral of (x^3 / exp(x) - 1) from 0 to inf: 6.493938985600159\nStephan-Boltzmann constant: 5.66e-08 W*K/m^2 compared to true value 5.67e-08 W*K/m^2\nI1 =  6.493938985600159 | I2 = 0.5336232721560406\n\nError on I2 = -1.9867719044813728\n\nSigma = 5.662523571448086e-08\n"
    }
   ],
   "source": [
    "# enter code here that calculates I1, I2 and sigma\n",
    "from math import exp, pi\n",
    "from decimal import Decimal\n",
    "\n",
    "N = 1000\n",
    "\n",
    "def f(x):\n",
    "    if (x == float(\"inf\")):\n",
    "        return 0.0\n",
    "    if (x > 0.0):\n",
    "        numer = x**3\n",
    "        denom = exp(x) - 1.0\n",
    "        return numer / denom\n",
    "    return 0.0\n",
    "    \n",
    "def integrate(a, b):\n",
    "    h = (b-a) / N\n",
    "    if (b == float('inf')):\n",
    "        h = 0.1\n",
    "    s = 0.5*(f(a) + f(b))\n",
    "    for k in range(1, N):\n",
    "        s += f(a + k*h)\n",
    "    return h*s\n",
    "\n",
    "I1 = integrate(0.0, float(\"inf\"))\n",
    "k = 1.38064852e-23 #Boltzman constant in m^2*kg / s^2*K \n",
    "hbar = 6.62607004e-34 / (2.0*pi) #plancks constant in m^2*kg / s over 2*pi\n",
    "c = 3e8 ##speed of light in m\n",
    "sigma = I1*(k**4) / (4*(pi**2)*(c**2)*(hbar**3))\n",
    "s = format(sigma, '.2e')\n",
    "T = 2800.0 #Kelvin\n",
    "f1 = 400e12\n",
    "f2 = 790e12\n",
    "w1 = 2.0*pi*f1\n",
    "w2 = 2.0*pi*f2\n",
    "\n",
    "#change coords to x\n",
    "x1 = (w1*hbar) / (k*T)\n",
    "x2 = (w2*hbar) / (k*T)\n",
    "I2 = integrate(x1, x2)\n",
    "print(\"Integral of (x^3 / exp(x) - 1) from 0 to inf: {}\".format(I1))\n",
    "print(\"Stephan-Boltzmann constant: {} W*K/m^2 compared to true value 5.67e-08 W*K/m^2\".format(s))\n",
    "\n",
    "print(\"I1 = \", I1, \"| I2 =\", I2)\n",
    "print(\"\\nError on I2 =\", (I2 - I1)/3) # or (I2 - I1)/15 if you use Simpson's Rule\n",
    "print(\"\\nSigma =\", sigma)"
   ]
  },
  {
   "cell_type": "markdown",
   "metadata": {},
   "source": [
    "# (c) Efficiency of a light bulb"
   ]
  },
  {
   "cell_type": "code",
   "execution_count": 30,
   "metadata": {},
   "outputs": [
    {
     "name": "stdout",
     "output_type": "stream",
     "text": "Efficiency = 8.2%\n"
    }
   ],
   "source": [
    "# enter code here that calculates eta\n",
    "Wvis = I2*(k**4)*(T**4) / (4*(pi**2)*(c**2)*(hbar**3))\n",
    "Wtot = sigma*(T**4)\n",
    "eta = Wvis/Wtot\n",
    "print(\"Efficiency = {:.1f}%\".format(eta*100))"
   ]
  },
  {
   "cell_type": "code",
   "execution_count": null,
   "metadata": {},
   "outputs": [],
   "source": []
  }
 ],
 "metadata": {
  "kernelspec": {
   "display_name": "Python 3",
   "language": "python",
   "name": "python3"
  },
  "language_info": {
   "codemirror_mode": {
    "name": "ipython",
    "version": 3
   },
   "file_extension": ".py",
   "mimetype": "text/x-python",
   "name": "python",
   "nbconvert_exporter": "python",
   "pygments_lexer": "ipython3",
   "version": "3.7.4-final"
  }
 },
 "nbformat": 4,
 "nbformat_minor": 2
}