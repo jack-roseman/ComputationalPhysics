{
 "cells": [
  {
   "cell_type": "code",
   "execution_count": 1,
   "metadata": {},
   "outputs": [
    {
     "name": "stdout",
     "output_type": "stream",
     "text": "x =  4.965114231744276 Iterations =  3\nWien displacement constant = 2.898484e-03 m K\nTemperature of the sun = 5774 K\n"
    }
   ],
   "source": [
    "from numpy import linspace, exp, log, sqrt\n",
    "from pylab import plot, show\n",
    "\n",
    "def f(x):\n",
    "    return 5*exp(-x) + x - 5\n",
    "\n",
    "def fprime(x):\n",
    "    return 1 - 5*exp(-x)\n",
    "\n",
    "accuracy = 10e-6\n",
    "delta = 1.0\n",
    "x1 = 5\n",
    "n = 0\n",
    "\n",
    "while delta > accuracy:\n",
    "    x2 = x1 - f(x1)/fprime(x1)\n",
    "    delta = abs(x2 - x1)\n",
    "    x1 = x2\n",
    "    n += 1\n",
    "    \n",
    "print(\"x = \", x1, \"Iterations = \", n)\n",
    "\n",
    "h = 6.62e-34\n",
    "c = 3e8\n",
    "k = 1.38e-23\n",
    "b = (h*c) / (k*x1)\n",
    "# print output\n",
    "peak = 5.02e-7\n",
    "print(\"Wien displacement constant = {:5e} m K\".format(b))\n",
    "print(\"Temperature of the sun = {:.0f} K\".format(b/peak))\n"
   ]
  },
  {
   "cell_type": "code",
   "execution_count": null,
   "metadata": {},
   "outputs": [],
   "source": []
  }
 ],
 "metadata": {
  "kernelspec": {
   "display_name": "Python 3",
   "language": "python",
   "name": "python3"
  },
  "language_info": {
   "codemirror_mode": {
    "name": "ipython",
    "version": 3
   },
   "file_extension": ".py",
   "mimetype": "text/x-python",
   "name": "python",
   "nbconvert_exporter": "python",
   "pygments_lexer": "ipython3",
   "version": "3.7.4-final"
  }
 },
 "nbformat": 4,
 "nbformat_minor": 2
}