{
 "cells": [
  {
   "cell_type": "markdown",
   "metadata": {},
   "source": [
    "## (a) Graph of $f(x) = 924x^6 - 2772x^5 + 3150x^4 - 1680x^3 + 420x^2 - 42x + 1$"
   ]
  },
  {
   "cell_type": "code",
   "execution_count": 2,
   "metadata": {},
   "outputs": [
    {
     "data": {
      "image/png": "[encoded data removed]",
      "text/plain": "<Figure size 432x288 with 1 Axes>"
     },
     "metadata": {
      "needs_background": "light"
     },
     "output_type": "display_data"
    }
   ],
   "source": [
    "from numpy import linspace, exp, log, sqrt, zeros\n",
    "from pylab import plot, show, grid, legend, xlabel, ylabel\n",
    "N = 100000\n",
    "xvals = linspace(0, 1, N)\n",
    "def f(x):\n",
    "    return 924*x**6 - 2772*x**5 + 3150*x**4 - 1680*x**3 + 420*x**2 - 42*x + 1\n",
    "\n",
    "def fprime(x):\n",
    "    return 5544*x**5 - 13860*x**4 + 12600*x**3 - 5040*x**2 + 840*x - 42\n",
    "\n",
    "plot(xvals,f(xvals), \"b-\", label=r\"$x$\")\n",
    "plot(xvals,zeros(N), \"r--\", label=r\"$x$\")\n",
    "xlabel(r\"$x$\")\n",
    "ylabel(r\"$y$\")\n",
    "grid()\n",
    "show()\n",
    "\n",
    "# graph it"
   ]
  },
  {
   "cell_type": "markdown",
   "metadata": {},
   "source": [
    "We have 6 roots around $x=0$ or $x=0.2$ or $x=0.4$ or $x=0.6$ or $x=0.8$ or $x=1.0$"
   ]
  },
  {
   "cell_type": "markdown",
   "metadata": {},
   "source": [
    "# (b) Roots of polynomial"
   ]
  },
  {
   "cell_type": "code",
   "execution_count": 30,
   "metadata": {},
   "outputs": [
    {
     "name": "stdout",
     "output_type": "stream",
     "text": "Guess: x=0.0 ; x = 0.0337652429\nGuess: x=0.2 ; x = 0.1693953068\nGuess: x=0.4 ; x = 0.3806904070\nGuess: x=0.6 ; x = 0.6193095930\nGuess: x=0.8 ; x = 0.8306046932\nGuess: x=1.0 ; x = 0.9662347571\n"
    }
   ],
   "source": [
    "# calculate roots, using Newtons method\n",
    "x1 = 0.0           # initial guess\n",
    "accuracy = 1e-10   # desired accuracy\n",
    "delta = 1.0        # initial difference between iterations\n",
    "\n",
    "def comp(x1, acc, d):\n",
    "\n",
    "    while d > acc:\n",
    "        x2 = x1 - f(x1)/fprime(x1)\n",
    "        d = abs(x2 - x1)\n",
    "        x1 = x2  \n",
    "    return x1\n",
    "print(\"Guess: x=0.0 ; x = %.10f\" % comp(0.0, accuracy, delta))\n",
    "print(\"Guess: x=0.2 ; x = %.10f\" % comp(0.2, accuracy, delta))\n",
    "print(\"Guess: x=0.4 ; x = %.10f\" % comp(0.4, accuracy, delta))\n",
    "print(\"Guess: x=0.6 ; x = %.10f\" % comp(0.6, accuracy, delta))\n",
    "print(\"Guess: x=0.8 ; x = %.10f\" % comp(0.8, accuracy, delta))\n",
    "print(\"Guess: x=1.0 ; x = %.10f\" % comp(1.0, accuracy, delta))"
   ]
  },
  {
   "cell_type": "code",
   "execution_count": null,
   "metadata": {},
   "outputs": [],
   "source": []
  }
 ],
 "metadata": {
  "kernelspec": {
   "display_name": "Python 3",
   "language": "python",
   "name": "python3"
  },
  "language_info": {
   "codemirror_mode": {
    "name": "ipython",
    "version": 3
   },
   "file_extension": ".py",
   "mimetype": "text/x-python",
   "name": "python",
   "nbconvert_exporter": "python",
   "pygments_lexer": "ipython3",
   "version": "3.7.4-final"
  }
 },
 "nbformat": 4,
 "nbformat_minor": 2
}