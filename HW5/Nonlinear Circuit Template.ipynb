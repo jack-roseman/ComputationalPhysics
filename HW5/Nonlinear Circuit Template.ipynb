{
 "cells": [
  {
   "cell_type": "code",
   "execution_count": 74,
   "metadata": {},
   "outputs": [
    {
     "name": "stdout",
     "output_type": "stream",
     "text": "V1 = 3.20 V, V2 = 3.20 V\nPotential difference across diode = 0.00 V\n"
    }
   ],
   "source": [
    "from solvematrix import solvematrix\n",
    "from numpy import array, sqrt, exp\n",
    "\n",
    "#function parameters\n",
    "vsrc = 5 ##Volts\n",
    "r1 = 1000 #Ohms\n",
    "r2 = 4000 #Ohms\n",
    "r3 = 3000 #Ohms\n",
    "r4 = 2000 #Ohms\n",
    "I = 3e9 ##amps\n",
    "vt = 0.05 # Volts\n",
    "\n",
    "def f(x, y):\n",
    "    f1 = ((x - vsrc)/r1) + (x/r2) + I*(exp((x-y)/vt) - 1) ##net current for V1\n",
    "    f2 = ((y - vsrc)/r3) + (y/r4) + I*(exp((y-x)/vt) - 1) ##net current for V2\n",
    "    return array([f1, f2], float)\n",
    "\n",
    "\n",
    "def gradf(x, y):\n",
    "    df1dx = (1/r1) + (1/r2) + (I/vt)*exp((x-y)/vt)\n",
    "    df1dy = -(I/vt)*exp((x-y)/vt)\n",
    "    df2dx = -(I/vt)*exp((y-x)/vt)\n",
    "    df2dy = (1/r3) + (1/r4) + (I/vt)*exp((y-x)/vt)\n",
    "    return array([[df1dx, df1dy], [df2dx, df2dy]], float)\n",
    "\n",
    "\n",
    "#initial guesses for newtons method\n",
    "x1 = 2.0 ##guess for v1\n",
    "x2 = 3.0 ##guess for v2\n",
    "\n",
    "accuracy = 1e-5\n",
    "delta = array([1.0, 1.0], float)\n",
    "\n",
    "while sqrt(delta[0]**2 + delta[1]**2) > accuracy:\n",
    "    delta = solvematrix(gradf(x1, x2), f(x1, x2))\n",
    "\n",
    "    x1 -= delta[0]\n",
    "    x2 -= delta[1]\n",
    "\n",
    "# print results\n",
    "print(\"V1 = {:.2f} V, V2 = {:.2f} V\".format(x1, x2))\n",
    "print(\"Potential difference across diode = {:.2f} V\".format(x1-x2))\n",
    "\n",
    "##i couldnt get a potential difference of .6 an i am not sure where i went wrong."
   ]
  },
  {
   "cell_type": "code",
   "execution_count": null,
   "metadata": {},
   "outputs": [],
   "source": [
    "v"
   ]
  }
 ],
 "metadata": {
  "kernelspec": {
   "display_name": "Python 3",
   "language": "python",
   "name": "python3"
  },
  "language_info": {
   "codemirror_mode": {
    "name": "ipython",
    "version": 3
   },
   "file_extension": ".py",
   "mimetype": "text/x-python",
   "name": "python",
   "nbconvert_exporter": "python",
   "pygments_lexer": "ipython3",
   "version": "3.7.4-final"
  }
 },
 "nbformat": 4,
 "nbformat_minor": 2
}