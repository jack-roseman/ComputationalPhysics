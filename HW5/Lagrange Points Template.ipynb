{
 "cells": [
  {
   "cell_type": "markdown",
   "metadata": {},
   "source": [
    "3a) The left hand of the equation is the net acceleration due to the opposing gravitational forces at L1 due to the Earth and Moons presence. The left hand side must then be the centripetal acceleration that is causing the mass at L1 to move around Earth at a constant distance r. The centripetal acceleration is (v^2)/r where v is the tangential velocity. Since v = w*r, the left hand side in terms of w is (v^2)/r = (w^2)*r."
   ]
  },
  {
   "cell_type": "markdown",
   "metadata": {},
   "source": [
    "## L1"
   ]
  },
  {
   "cell_type": "code",
   "execution_count": 2,
   "metadata": {},
   "outputs": [
    {
     "name": "stdout",
     "output_type": "stream",
     "text": [
      "Distance to L1 for omega = 2.662e-06 (s^-1): 326045.07166535547 km\n"
     ]
    }
   ],
   "source": [
    "# Calculate L2\n",
    "G = 6.674e-11 ##kg*m^3*s^-2\n",
    "massEarth = 5.974e24 ##kg\n",
    "massMoon = 7.348e22 ##kg\n",
    "R = 3.844e8 ##m\n",
    "w = 2.662e-6 ## s^-1\n",
    "\n",
    "def f(x):\n",
    "    return ((G*massEarth)/x**2) - (G*massMoon/(R-x)**2) - x*w**2\n",
    "\n",
    "x1 = 1000000           # initial guess\n",
    "x2 = x1*1.1         # initial guess\n",
    "accuracy = 1e-4   # desired accuracy\n",
    "delta = 1.0        # initial difference between iterations\n",
    "\n",
    "# Secant method\n",
    "while delta > accuracy:\n",
    "    x3 = x2 - f(x2)*(x2 - x1)/(f(x2) - f(x1))\n",
    "    delta = abs(x3 - x2)\n",
    "    x1 = x2\n",
    "    x2 = x3\n",
    "\n",
    "print(\"Distance to L1 for omega = {} (s^-1):\".format(w), x2/1000, \"km\" )"
   ]
  },
  {
   "cell_type": "markdown",
   "metadata": {},
   "source": [
    "## L2"
   ]
  },
  {
   "cell_type": "code",
   "execution_count": 3,
   "metadata": {},
   "outputs": [
    {
     "name": "stdout",
     "output_type": "stream",
     "text": [
      "Distance to L2 for omega = 2.662e-06 (s^-1): 448452.45688239526 km\n"
     ]
    }
   ],
   "source": [
    "# Calculate L2\n",
    "G = 6.674e-11 ##kg*m^3*s^-2\n",
    "massEarth = 5.974e24 ##kg\n",
    "massMoon = 7.348e22 ##kg\n",
    "R = 3.844e8 ##m\n",
    "w = 2.662e-6 ## s^-1\n",
    "\n",
    "def f1(x):\n",
    "    return ((G*massEarth)/x**2) + (G*massMoon/(x-R)**2) - x*w**2\n",
    "\n",
    "x1 = 1000000           # initial guess\n",
    "x2 = x1*1.1         # initial guess\n",
    "accuracy = 1e-4   # desired accuracy\n",
    "delta = 1.0        # initial difference between iterations\n",
    "\n",
    "# Secant method\n",
    "while delta > accuracy:\n",
    "    x3 = x2 - f1(x2)*(x2 - x1)/(f1(x2) - f1(x1))\n",
    "    delta = abs(x3 - x2)\n",
    "    x1 = x2\n",
    "    x2 = x3\n",
    "\n",
    "print(\"Distance to L2 for omega = {} (s^-1):\".format(w), x2/1000, \"km\" )"
   ]
  },
  {
   "cell_type": "markdown",
   "metadata": {},
   "source": [
    "## L3"
   ]
  },
  {
   "cell_type": "code",
   "execution_count": 4,
   "metadata": {},
   "outputs": [
    {
     "name": "stdout",
     "output_type": "stream",
     "text": [
      "Distance to L3 for omega = 2.662e-06 (s^-1): 383579.41504134564 km\n"
     ]
    }
   ],
   "source": [
    "# Calculate L3\n",
    "import math\n",
    "G = 6.674e-11 ##kg*m^3*s^-2\n",
    "massEarth = 5.974e24 ##kg\n",
    "massMoon = 7.348e22 ##kg\n",
    "R = 3.844e8 ##m\n",
    "w = 2.662e-6 ## s^-1\n",
    "\n",
    "def f2(x):\n",
    "    return -((G*massEarth)/x**2) - (G*massMoon/(x-R)**2) - x*w**2\n",
    "\n",
    "x1 = 1000000           # initial guess\n",
    "x2 = x1*1.1         # initial guess\n",
    "accuracy = 1e-4   # desired accuracy\n",
    "delta = 1.0        # initial difference between iterations\n",
    "\n",
    "# Secant method\n",
    "while delta > accuracy:\n",
    "    x3 = x2 - f2(x2)*(x2 - x1)/(f2(x2) - f2(x1))\n",
    "    delta = abs(x3 - x2)\n",
    "    x1 = x2\n",
    "    x2 = x3\n",
    "\n",
    "print(\"Distance to L3 for omega = {} (s^-1):\".format(w), -1*x2/1000, \"km\" ) ##multiply by -1 because we just want magnitude of the distance (- sign indicates L3 is to the left of earth)."
   ]
  },
  {
   "cell_type": "code",
   "execution_count": null,
   "metadata": {},
   "outputs": [],
   "source": []
  }
 ],
 "metadata": {
  "kernelspec": {
   "display_name": "Python 3",
   "language": "python",
   "name": "python3"
  },
  "language_info": {
   "codemirror_mode": {
    "name": "ipython",
    "version": 3
   },
   "file_extension": ".py",
   "mimetype": "text/x-python",
   "name": "python",
   "nbconvert_exporter": "python",
   "pygments_lexer": "ipython3",
   "version": "3.7.6"
  }
 },
 "nbformat": 4,
 "nbformat_minor": 2
}
