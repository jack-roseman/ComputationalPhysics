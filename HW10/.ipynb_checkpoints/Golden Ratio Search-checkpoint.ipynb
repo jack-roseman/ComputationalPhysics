{
 "cells": [
  {
   "cell_type": "code",
   "execution_count": 6,
   "metadata": {},
   "outputs": [
    {
     "name": "stdout",
     "output_type": "stream",
     "text": [
      "Golden ratio minimum =  1.5000000018662685\n"
     ]
    }
   ],
   "source": [
    "from numpy import sqrt\n",
    "\n",
    "def f(x):\n",
    "    return (x - 1.5)**2\n",
    "\n",
    "z = (1 + sqrt(5))/2    # golden ratio\n",
    "accuracy = 1e-8        # desired accuracy\n",
    "x1 = 0                 # left bracket\n",
    "x4 = 2                 # right bracket\n",
    "x2 = x4 - (x4 - x1)/z  # interior point\n",
    "x3 = x1 + (x4 - x1)/z  # interior point\n",
    "\n",
    "# Main loop of search\n",
    "while x4 - x1 > accuracy:\n",
    "        \n",
    "    if f(x2) < f(x3):\n",
    "        x4 = x3\n",
    "        x3 = x2\n",
    "        x2 = x4 - (x4 - x1)/z\n",
    "    else:\n",
    "        x1 = x2\n",
    "        x2 = x3\n",
    "        x3 = x1 + (x4 - x1)/z\n",
    "        \n",
    "# Output results\n",
    "print(\"Golden ratio minimum = \",(x1 + x4)/2)\n"
   ]
  },
  {
   "cell_type": "code",
   "execution_count": null,
   "metadata": {},
   "outputs": [],
   "source": []
  }
 ],
 "metadata": {
  "kernelspec": {
   "display_name": "Python 3",
   "language": "python",
   "name": "python3"
  },
  "language_info": {
   "codemirror_mode": {
    "name": "ipython",
    "version": 3
   },
   "file_extension": ".py",
   "mimetype": "text/x-python",
   "name": "python",
   "nbconvert_exporter": "python",
   "pygments_lexer": "ipython3",
   "version": "3.7.6"
  }
 },
 "nbformat": 4,
 "nbformat_minor": 2
}
