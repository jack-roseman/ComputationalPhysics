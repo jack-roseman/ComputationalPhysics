{
 "cells": [
  {
   "cell_type": "code",
   "execution_count": 1,
   "metadata": {},
   "outputs": [],
   "source": [
    "from numpy import array, arange, sin, pi, cos, sqrt, linspace, cross, divide\n",
    "from pylab import plot, show, legend, xlabel, ylabel, title\n",
    "\n",
    "def mag(vec):\n",
    "    return sqrt(vec[0]**2 + vec[1]**2)\n",
    "\n",
    "def direc(vec):\n",
    "    return vec / mag(vec)\n",
    "    \n",
    "# this solves drdt and dvdt\n",
    "def f(state):\n",
    "    drdt = state[1]\n",
    "    fnet = m*g - 0.5*rho*C*A*(mag(drdt)**2)*direc(drdt) + S*omega*array([-drdt[1], drdt[0]], float)\n",
    "    dvdt = fnet/m\n",
    "    return array([drdt, dvdt], float)\n",
    "\n",
    "#parameters\n",
    "m = 0.145                        # mass of ball in kg\n",
    "R = 0.0380                       # radius of ball in m\n",
    "g = array([0.0, -9.81], float)   # gravitational acceleration vector in m/s^2\n",
    "C = 0.3                          # drag coefficient\n",
    "A = pi * R**2                    # cross sectional area of ball\n",
    "\n",
    "def trajectory(v0, theta0):\n",
    "    r  = array([0.0, 0.0], float)    # initial position\n",
    "    v  = array([v0*cos(theta0*pi/180), v0*sin(theta0*pi/180)], float) #initial velocity vector\n",
    "    state = array([r, v], float)\n",
    "    statevals = [state]\n",
    "    dt = 0.001\n",
    "    while state[0][1] >= 0.0:\n",
    "        #4th order Runge Kutta\n",
    "        k1 = f(state) * dt\n",
    "        k2 = f(state + 0.5*k1) * dt\n",
    "        k3 = f(state + 0.5*k2) * dt\n",
    "        k4 = f(state + k3) * dt\n",
    "        state = state + 1/6*(k1 + 2*k2 + 2*k3 + k4)\n",
    "        statevals.append(state)\n",
    "    rvals = [state[0] for state in statevals]\n",
    "    xvals = [r[0] for r in rvals]\n",
    "    yvals = [r[1] for r in rvals]\n",
    "    return [xvals, yvals]\n",
    "        \n"
   ]
  },
  {
   "cell_type": "markdown",
   "metadata": {},
   "source": [
    "$\\textbf{a1) Vacuum (rho = 0, S = 0)}$"
   ]
  },
  {
   "cell_type": "code",
   "execution_count": 2,
   "metadata": {},
   "outputs": [
    {
     "name": "stdout",
     "output_type": "stream",
     "text": [
      "Quantatative Distance 250.99446178793113 meters\n",
      "Theoretical Distance 250.9703753853741 meters\n"
     ]
    }
   ],
   "source": [
    "rho = 0.0                         # air density in kg/m^3 \n",
    "S = 0.0                            # spin factor kg\n",
    "omega = 10.0                    # initial angular velocity\n",
    "\n",
    "vacuum = trajectory(50, 40)\n",
    "\n",
    "print(\"Quantatative Distance\", vacuum[0][-1], \"meters\")\n",
    "print(\"Theoretical Distance\", 50**2*sin(2*40*pi/180)/9.81, \"meters\")"
   ]
  },
  {
   "cell_type": "markdown",
   "metadata": {},
   "source": [
    "$\\textbf{a2) Air Drag Only (omega = 0, rho = 1.225, S = 5.90e-5)}$"
   ]
  },
  {
   "cell_type": "code",
   "execution_count": 3,
   "metadata": {},
   "outputs": [
    {
     "name": "stdout",
     "output_type": "stream",
     "text": [
      "Quantatative Distance 129.81773538416277 meters\n"
     ]
    }
   ],
   "source": [
    "omega = 0.0                      # initial angular velocity\n",
    "rho = 1.225                      # air density in kg/m^3 \n",
    "S = 5.90e-5                      # spin factor kg\n",
    "\n",
    "airdrag = trajectory(50, 40)\n",
    "\n",
    "print(\"Quantatative Distance\", airdrag[0][-1], \"meters\")"
   ]
  },
  {
   "cell_type": "markdown",
   "metadata": {},
   "source": [
    "$\\textbf{a3) Air Drag + topspin (omega = -1500 Rpm, rho = 1.225, S = 5.90e-5)}$"
   ]
  },
  {
   "cell_type": "code",
   "execution_count": 4,
   "metadata": {},
   "outputs": [
    {
     "name": "stdout",
     "output_type": "stream",
     "text": [
      "Quantatative Distance 120.21645758681724 meters\n"
     ]
    }
   ],
   "source": [
    "omega = -1500.0*2*pi/60                # initial angular velocity in rad/s\n",
    "rho = 1.225                      # air density in kg/m^3 \n",
    "S = 5.90e-5                      # spin factor kg\n",
    "\n",
    "topspin = trajectory(50, 40)\n",
    "\n",
    "print(\"Quantatative Distance\", topspin[0][-1], \"meters\")"
   ]
  },
  {
   "cell_type": "markdown",
   "metadata": {},
   "source": [
    "$\\textbf{a4) Air Drag + backspin (omega = 1500 Rpm, rho = 1.225, S = 5.90e-5)}$"
   ]
  },
  {
   "cell_type": "code",
   "execution_count": 5,
   "metadata": {},
   "outputs": [
    {
     "name": "stdout",
     "output_type": "stream",
     "text": [
      "Quantatative Distance 138.3367917703798 meters\n"
     ]
    }
   ],
   "source": [
    "omega = 1500.0*2*pi/60                # initial angular velocity in rad/s\n",
    "rho = 1.225                      # air density in kg/m^3 \n",
    "S = 5.90e-5                      # spin factor kg\n",
    "\n",
    "backspin = trajectory(50, 40)\n",
    "\n",
    "print(\"Quantatative Distance\", backspin[0][-1], \"meters\")"
   ]
  },
  {
   "cell_type": "code",
   "execution_count": 6,
   "metadata": {},
   "outputs": [
    {
     "data": {
      "image/png": "[encoded data removed]",
      "text/plain": [
       "<Figure size 432x288 with 1 Axes>"
      ]
     },
     "metadata": {
      "needs_background": "light"
     },
     "output_type": "display_data"
    }
   ],
   "source": [
    "plot(vacuum[0], vacuum[1], label=\"Vacuum Only\")\n",
    "plot(airdrag[0], airdrag[1], label=\"Air drag Only\")\n",
    "plot(topspin[0], topspin[1], label=\"Topspin + Air drag\")\n",
    "plot(backspin[0], backspin[1], label=\"Backspin + Air drag\")\n",
    "title(\"Ball Paths\")\n",
    "xlabel(\"x (meters)\")\n",
    "ylabel(\"y (meters)\")\n",
    "legend(loc=\"upper right\")\n",
    "show()"
   ]
  },
  {
   "cell_type": "markdown",
   "metadata": {},
   "source": [
    "Of course in a vaccuum the ball will travel the farthest and highest because air drag acts to slow down the x and y velocity components of the ball.\n",
    "\n",
    "For backspin case, the positive value for w acts to increase the y-force, allowing the ball to travel higher and farther that the airdrag only case. This makes sense since in reality, a topspin generates a high pressure beneath the ball which acts against gravity, giving it more airtime.\n",
    "\n",
    "The topspin case, the negative value for w acts in the same direction as gravity, effectivly adding to the downward force of the ball, making it fall to the ground quicker and preventing it from going as high as the air drag only case. In reality, the high pressure will at the top of the ball which in turn accelerate it down."
   ]
  },
  {
   "cell_type": "markdown",
   "metadata": {},
   "source": [
    "$\\textbf{b)}$ Graphing $\\theta_{optimal}$ vs $v_0$"
   ]
  },
  {
   "cell_type": "code",
   "execution_count": 7,
   "metadata": {},
   "outputs": [],
   "source": [
    "def findmax(v):\n",
    "    z = (1 + sqrt(5))/2    # golden ratio\n",
    "    accuracy = 1e-3        # desired accuracy\n",
    "    x1 = 0                 # left bracket\n",
    "    x4 = 90                # right bracket\n",
    "    x2 = x4 - (x4 - x1)/z  # interior point\n",
    "    x3 = x1 + (x4 - x1)/z  # interior point\n",
    "\n",
    "    # Main loop of search\n",
    "    while x4 - x1 > accuracy:\n",
    "        d1 = trajectory(v, x2)[0][-1]\n",
    "        d2 = trajectory(v, x3)[0][-1]\n",
    "        if d1 > d2:\n",
    "            x4 = x3\n",
    "            x3 = x2\n",
    "            x2 = x4 - (x4 - x1)/z\n",
    "        else:\n",
    "            x1 = x2\n",
    "            x2 = x3\n",
    "            x3 = x1 + (x4 - x1)/z\n",
    "        \n",
    "    return (x1 + x4)/2"
   ]
  },
  {
   "cell_type": "markdown",
   "metadata": {},
   "source": [
    "Graph of $\\theta_{optimal}$ vs $v_0$ with $\\omega = 0$, $\\omega = +1500 RPM$ and $\\omega = -1500 RPM$"
   ]
  },
  {
   "cell_type": "code",
   "execution_count": 8,
   "metadata": {},
   "outputs": [],
   "source": [
    "rho = 1.225                      # air density in kg/m^3 \n",
    "S = 5.90e-5                      # spin factor kg\n",
    "\n",
    "vnaughtvals = linspace(10.0, 60.0, 20)\n",
    "noSpinThetaOptimal = []\n",
    "topspinThetaOptimal = []\n",
    "backspinThetaOptimal = []\n",
    "\n",
    "omega = 0.0                      # initial angular velocity\n",
    "for vnaught in vnaughtvals:\n",
    "    noSpinThetaOptimal.append(findmax(vnaught))\n"
   ]
  },
  {
   "cell_type": "code",
   "execution_count": 9,
   "metadata": {},
   "outputs": [],
   "source": [
    "omega = -1500.0*2*pi/60         # initial angular velocity in rad/s\n",
    "for vnaught in vnaughtvals:\n",
    "    topspinThetaOptimal.append(findmax(vnaught))"
   ]
  },
  {
   "cell_type": "code",
   "execution_count": 10,
   "metadata": {},
   "outputs": [],
   "source": [
    "omega = 1500.0*2*pi/60          # initial angular velocity in rad/s\n",
    "for vnaught in vnaughtvals:\n",
    "    backspinThetaOptimal.append(findmax(vnaught))"
   ]
  },
  {
   "cell_type": "code",
   "execution_count": 11,
   "metadata": {},
   "outputs": [
    {
     "data": {
      "image/png": "[encoded data removed]",
      "text/plain": [
       "<Figure size 432x288 with 1 Axes>"
      ]
     },
     "metadata": {
      "needs_background": "light"
     },
     "output_type": "display_data"
    }
   ],
   "source": [
    "plot(vnaughtvals, noSpinThetaOptimal, label=\"No Spin\")\n",
    "plot(vnaughtvals, topspinThetaOptimal, label=\"Top Spin\")\n",
    "plot(vnaughtvals, backspinThetaOptimal, label=\"Back Spin\")\n",
    "\n",
    "title(\"Initial Velocity vs. Optimal Initial Angle\")\n",
    "xlabel(\"Initial velocity\")\n",
    "ylabel(\"Optimal Initial Angle\")\n",
    "legend()\n",
    "show()"
   ]
  },
  {
   "cell_type": "markdown",
   "metadata": {},
   "source": [
    "For the same initial velocity, the optimal initial velocity is larger for top spin because the top spin allows it to go t"
   ]
  }
 ],
 "metadata": {
  "kernelspec": {
   "display_name": "Python 3",
   "language": "python",
   "name": "python3"
  },
  "language_info": {
   "codemirror_mode": {
    "name": "ipython",
    "version": 3
   },
   "file_extension": ".py",
   "mimetype": "text/x-python",
   "name": "python",
   "nbconvert_exporter": "python",
   "pygments_lexer": "ipython3",
   "version": "3.7.6"
  },
  "varInspector": {
   "cols": {
    "lenName": 16,
    "lenType": 16,
    "lenVar": 40
   },
   "kernels_config": {
    "python": {
     "delete_cmd_postfix": "",
     "delete_cmd_prefix": "del ",
     "library": "var_list.py",
     "varRefreshCmd": "print(var_dic_list())"
    },
    "r": {
     "delete_cmd_postfix": ") ",
     "delete_cmd_prefix": "rm(",
     "library": "var_list.r",
     "varRefreshCmd": "cat(var_dic_list()) "
    }
   },
   "types_to_exclude": [
    "module",
    "function",
    "builtin_function_or_method",
    "instance",
    "_Feature"
   ],
   "window_display": false
  }
 },
 "nbformat": 4,
 "nbformat_minor": 2
}
