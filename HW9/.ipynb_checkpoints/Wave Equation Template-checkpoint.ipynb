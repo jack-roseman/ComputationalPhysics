{
 "cells": [
  {
   "cell_type": "markdown",
   "metadata": {},
   "source": [
    "Add other values of $\\psi(x,0)$ as comments inside the psi0 function"
   ]
  },
  {
   "cell_type": "code",
   "execution_count": null,
   "metadata": {},
   "outputs": [],
   "source": [
    "from vpython import *\n",
    "from numpy import sin, cos, pi, arange, zeros, linspace\n",
    "\n",
    "# calculates wavefunction at t=0\n",
    "def psi0(xvalues):\n",
    "    N = len(xvalues)\n",
    "    psi = zeros(N, float)\n",
    "    for n in range(N):\n",
    "        x = xvalues[n]        \n",
    "        psi[n] = 1/4*sin(pi*x/L) + 3/4*sin(3*pi*x/L)\n",
    "    \n",
    "    return psi\n",
    "\n",
    "# calculate Fourier coefficients for psi\n",
    "def fourier(psi):\n",
    "    N = len(psi)\n",
    "    b = zeros(N, float)\n",
    "    for n in range(N):\n",
    "        for m in range(N):\n",
    "            x = m*L/(N-1)\n",
    "            b[n] += (2/N)*psi[m]*sin(n*pi*x/L)\n",
    "    return b\n",
    "\n",
    "# Constants\n",
    "L = 1.0                     # length of string\n",
    "N = 200                     # number of points\n",
    "v = 1.0                     # wave speed\n",
    "A = 1.0                     # amplitude\n",
    "period1 = 2*L/v             # period of n=1 mode\n",
    "xvalues = linspace(0,L,N)   # x values\n",
    "\n",
    "# Initialization\n",
    "psi = psi0(xvalues)         # Wavefunction at t=0\n",
    "b = fourier(psi)            # Fourier coefficients for psi0\n",
    "t = 0                       # Initial time\n",
    "\n",
    "# Graphs\n",
    "g1 = graph(xtitle=\"n\", ytitle=\"|b|^2\", xmin=0, xmax=10)\n",
    "bar = gvbars(graph=g1, delta=1.0, color=color.green)\n",
    "for n in range(N):\n",
    "    bar.plot(n,b[n]**2)\n",
    "\n",
    "g2 = graph(xtitle=\"x\", ytitle=\"psi\", xmin=0, xmax=L, ymin=-A, ymax=A)\n",
    "wave = gcurve(graph=g2, color=color.blue)\n",
    "\n",
    "# main program loop\n",
    "while True:\n",
    "   \n",
    "    rate(50)\n",
    "    \n",
    "    # calculate wave function at time t\n",
    "    psi = zeros(N, float)\n",
    "    for m in range(N):\n",
    "        x = m*L/(N-1)\n",
    "        for n in range(N):\n",
    "            psi[m] += b[n]*sin(n*pi*x/L)*cos(n*pi*v*t/L)\n",
    "    \n",
    "    # plot the results\n",
    "    data = []\n",
    "    for i in range(N):\n",
    "        data.append([xvalues[i], psi[i]])\n",
    "    wave.data = data\n",
    "    \n",
    "    t += period1/40\n"
   ]
  },
  {
   "cell_type": "code",
   "execution_count": null,
   "metadata": {},
   "outputs": [],
   "source": []
  }
 ],
 "metadata": {
  "kernelspec": {
   "display_name": "Python 3",
   "language": "python",
   "name": "python3"
  },
  "language_info": {
   "codemirror_mode": {
    "name": "ipython",
    "version": 3
   },
   "file_extension": ".py",
   "mimetype": "text/x-python",
   "name": "python",
   "nbconvert_exporter": "python",
   "pygments_lexer": "ipython3",
   "version": "3.7.6"
  }
 },
 "nbformat": 4,
 "nbformat_minor": 2
}
