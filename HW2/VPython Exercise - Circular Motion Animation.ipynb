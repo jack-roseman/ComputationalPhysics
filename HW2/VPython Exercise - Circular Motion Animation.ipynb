{
 "cells": [
  {
   "cell_type": "code",
   "execution_count": 2,
   "metadata": {},
   "outputs": [
    {
     "ename": "ModuleNotFoundError",
     "evalue": "No module named 'vpython'",
     "output_type": "error",
     "traceback": [
      "\u001b[0;31m---------------------------------------------------------------------------\u001b[0m",
      "\u001b[0;31mModuleNotFoundError\u001b[0m                       Traceback (most recent call last)",
      "\u001b[0;32m<ipython-input-2-1f508a939b0f>\u001b[0m in \u001b[0;36m<module>\u001b[0;34m\u001b[0m\n\u001b[0;32m----> 1\u001b[0;31m \u001b[0;32mimport\u001b[0m \u001b[0mvpython\u001b[0m \u001b[0;32mas\u001b[0m \u001b[0mvp\u001b[0m\u001b[0;34m\u001b[0m\u001b[0;34m\u001b[0m\u001b[0m\n\u001b[0m\u001b[1;32m      2\u001b[0m \u001b[0;32mfrom\u001b[0m \u001b[0mnumpy\u001b[0m \u001b[0;32mimport\u001b[0m \u001b[0mcos\u001b[0m\u001b[0;34m,\u001b[0m \u001b[0msin\u001b[0m\u001b[0;34m,\u001b[0m \u001b[0mpi\u001b[0m\u001b[0;34m\u001b[0m\u001b[0;34m\u001b[0m\u001b[0m\n\u001b[1;32m      3\u001b[0m \u001b[0;34m\u001b[0m\u001b[0m\n\u001b[1;32m      4\u001b[0m \u001b[0;31m# Set up scene\u001b[0m\u001b[0;34m\u001b[0m\u001b[0;34m\u001b[0m\u001b[0;34m\u001b[0m\u001b[0m\n\u001b[1;32m      5\u001b[0m \u001b[0mscene\u001b[0m \u001b[0;34m=\u001b[0m \u001b[0mvp\u001b[0m\u001b[0;34m.\u001b[0m\u001b[0mcanvas\u001b[0m\u001b[0;34m(\u001b[0m\u001b[0mbackground\u001b[0m \u001b[0;34m=\u001b[0m \u001b[0mvp\u001b[0m\u001b[0;34m.\u001b[0m\u001b[0mcolor\u001b[0m\u001b[0;34m.\u001b[0m\u001b[0mwhite\u001b[0m\u001b[0;34m,\u001b[0m \u001b[0mwidth\u001b[0m\u001b[0;34m=\u001b[0m\u001b[0;36m600\u001b[0m\u001b[0;34m,\u001b[0m \u001b[0mheight\u001b[0m\u001b[0;34m=\u001b[0m\u001b[0;36m600\u001b[0m\u001b[0;34m)\u001b[0m\u001b[0;34m\u001b[0m\u001b[0;34m\u001b[0m\u001b[0m\n",
      "\u001b[0;31mModuleNotFoundError\u001b[0m: No module named 'vpython'"
     ]
    }
   ],
   "source": [
    "import vpython as vp\n",
    "from numpy import cos, sin, pi\n",
    "\n",
    "# Set up scene\n",
    "scene = vp.canvas(background = vp.color.white, width=600, height=600)\n",
    "\n",
    "# Set up graphs\n",
    "vp.graph(width=400, height=250, xtitle=\"time\", ytitle=\"position\")\n",
    "xDots = vp.gdots(color=vp.color.green, label=\"x\", interval=10)\n",
    "yDots = vp.gdots(color=vp.color.magenta, label=\"y\", interval=5)\n",
    "\n",
    "# Coordinate axes\n",
    "axisRadius = 0.01\n",
    "axisColor = vp.vector(0.5, 0.5, 0.5)\n",
    "xaxis = vp.cylinder(pos=vp.vector(-5,0,0), axis=vp.vector(10,0,0), radius = axisRadius, color=axisColor)\n",
    "yaxis = vp.cylinder(pos=vp.vector(0,-5,0), axis=vp.vector(0,10,0), radius = axisRadius, color=axisColor)\n",
    "zaxis = vp.cylinder(pos=vp.vector(0,0,-5), axis=vp.vector(0,0,10), radius = axisRadius, color=axisColor)\n",
    "vp.label(pos=xaxis.pos + xaxis.axis, text='x', height=10, box=False)\n",
    "vp.label(pos=yaxis.pos + yaxis.axis, text='y', height=10, box=False)\n",
    "vp.label(pos=zaxis.pos + zaxis.axis, text='z', height=10, box=False)\n",
    "\n",
    "# Sphere\n",
    "R = 2\n",
    "ball = vp.sphere(pos=vp.vector(R,0,0), radius=0.25, color=vp.color.blue, make_trail=True, retain=100)\n",
    "\n",
    "# Animation properties\n",
    "T = 3      # period\n",
    "t = 0      # initial time\n",
    "dt = T/100 # time step\n",
    "\n",
    "# Animation\n",
    "while t < 5*T:\n",
    "    \n",
    "    vp.rate(40)\n",
    "    \n",
    "    # Calculate new position of sphere and update position\n",
    "    x = R*cos(2*pi*t/T)\n",
    "    y = R*sin(2*pi*t/T)\n",
    "    ball.pos = vp.vector(x,y,0)\n",
    "    \n",
    "    # Update graph\n",
    "    xDots.plot(t,ball.pos.x)\n",
    "    yDots.plot(t,ball.pos.y)\n",
    "    \n",
    "    t += dt\n",
    "    \n",
    "\n"
   ]
  },
  {
   "cell_type": "code",
   "execution_count": 3,
   "metadata": {},
   "outputs": [
    {
     "ename": "ModuleNotFoundError",
     "evalue": "No module named 'vpython'",
     "output_type": "error",
     "traceback": [
      "\u001b[0;31m---------------------------------------------------------------------------\u001b[0m",
      "\u001b[0;31mModuleNotFoundError\u001b[0m                       Traceback (most recent call last)",
      "\u001b[0;32m<ipython-input-3-e4499da0af58>\u001b[0m in \u001b[0;36m<module>\u001b[0;34m\u001b[0m\n\u001b[0;32m----> 1\u001b[0;31m \u001b[0;32mimport\u001b[0m \u001b[0mvpython\u001b[0m\u001b[0;34m\u001b[0m\u001b[0;34m\u001b[0m\u001b[0m\n\u001b[0m",
      "\u001b[0;31mModuleNotFoundError\u001b[0m: No module named 'vpython'"
     ]
    }
   ],
   "source": [
    "import vpython"
   ]
  },
  {
   "cell_type": "code",
   "execution_count": null,
   "metadata": {},
   "outputs": [],
   "source": []
  }
 ],
 "metadata": {
  "kernelspec": {
   "display_name": "Python 3.7.4 64-bit ('base': conda)",
   "language": "python",
   "name": "python37464bitbaseconda9ce5ccae2053485482635e0741719550"
  },
  "language_info": {
   "codemirror_mode": {
    "name": "ipython",
    "version": 3
   },
   "file_extension": ".py",
   "mimetype": "text/x-python",
   "name": "python",
   "nbconvert_exporter": "python",
   "pygments_lexer": "ipython3",
   "version": "3.7.4-final"
  }
 },
 "nbformat": 4,
 "nbformat_minor": 2
}