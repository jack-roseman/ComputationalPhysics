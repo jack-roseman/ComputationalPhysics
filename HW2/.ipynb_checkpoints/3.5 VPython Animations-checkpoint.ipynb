{
 "cells": [
  {
   "cell_type": "code",
   "execution_count": 1,
   "metadata": {},
   "outputs": [
    {
     "ename": "ModuleNotFoundError",
     "evalue": "No module named 'vpython'",
     "output_type": "error",
     "traceback": [
      "\u001b[0;31m---------------------------------------------------------------------------\u001b[0m",
      "\u001b[0;31mModuleNotFoundError\u001b[0m                       Traceback (most recent call last)",
      "\u001b[0;32m<ipython-input-1-c8b6f8affdea>\u001b[0m in \u001b[0;36m<module>\u001b[0;34m\u001b[0m\n\u001b[0;32m----> 1\u001b[0;31m \u001b[0;32mimport\u001b[0m \u001b[0mvpython\u001b[0m \u001b[0;32mas\u001b[0m \u001b[0mvp\u001b[0m\u001b[0;34m\u001b[0m\u001b[0;34m\u001b[0m\u001b[0m\n\u001b[0m\u001b[1;32m      2\u001b[0m \u001b[0;34m\u001b[0m\u001b[0m\n\u001b[1;32m      3\u001b[0m \u001b[0;31m# Set up scene\u001b[0m\u001b[0;34m\u001b[0m\u001b[0;34m\u001b[0m\u001b[0;34m\u001b[0m\u001b[0m\n\u001b[1;32m      4\u001b[0m \u001b[0mscene\u001b[0m \u001b[0;34m=\u001b[0m \u001b[0mvp\u001b[0m\u001b[0;34m.\u001b[0m\u001b[0mcanvas\u001b[0m\u001b[0;34m(\u001b[0m\u001b[0mbackground\u001b[0m \u001b[0;34m=\u001b[0m \u001b[0mvp\u001b[0m\u001b[0;34m.\u001b[0m\u001b[0mcolor\u001b[0m\u001b[0;34m.\u001b[0m\u001b[0mwhite\u001b[0m\u001b[0;34m,\u001b[0m \u001b[0mwidth\u001b[0m\u001b[0;34m=\u001b[0m\u001b[0;36m600\u001b[0m\u001b[0;34m,\u001b[0m \u001b[0mheight\u001b[0m\u001b[0;34m=\u001b[0m\u001b[0;36m600\u001b[0m\u001b[0;34m)\u001b[0m\u001b[0;34m\u001b[0m\u001b[0;34m\u001b[0m\u001b[0m\n\u001b[1;32m      5\u001b[0m \u001b[0;34m\u001b[0m\u001b[0m\n",
      "\u001b[0;31mModuleNotFoundError\u001b[0m: No module named 'vpython'"
     ]
    }
   ],
   "source": [
    "import vpython as vp\n",
    "\n",
    "# Set up scene\n",
    "scene = vp.canvas(background = vp.color.white, width=600, height=600)\n",
    "\n",
    "# set up graphs\n",
    "vp.graph(width=400, height=250, xtitle=\"Time\", ytitle=\"Position\")\n",
    "xDots = vp.gdots(color=vp.color.green, label=\"x\")\n",
    "yDots = vp.gdots(color=vp.color.magenta, label=\"y\")\n",
    "xDots.plot(0,0)\n",
    "\n",
    "# Coordinate axes\n",
    "axisRadius = 0.01\n",
    "axisColor = vp.vector(0.5, 0.5, 0.5)\n",
    "\n",
    "xaxis = vp.cylinder(pos=vp.vector(-5,0,0), axis=vp.vector(10,0,0), radius = axisRadius, color=axisColor)\n",
    "yaxis = vp.cylinder(pos=vp.vector(0,-5,0), axis=vp.vector(0,10,0), radius = axisRadius, color=axisColor)\n",
    "zaxis = vp.cylinder(pos=vp.vector(0,0,-5), axis=vp.vector(0,0,10), radius = axisRadius, color=axisColor)\n",
    "vp.label(pos=xaxis.pos + xaxis.axis, text='x', height=10, box=False)\n",
    "vp.label(pos=yaxis.pos + yaxis.axis, text='y', height=10, box=False)\n",
    "vp.label(pos=zaxis.pos + zaxis.axis, text='z', height=10, box=False)\n",
    "\n",
    "# Box\n",
    "movingBox = vp.box(pos=vp.vector(0,0,0), size=vp.vector(1,1,1), color=vp.color.red, make_trail=True)\n",
    "t = 0\n",
    "\n",
    "while movingBox.pos.x < 5:\n",
    "    vp.rate(20)\n",
    "    t += 1\n",
    "    movingBox.pos.x += 0.05\n",
    "    movingBox.pos.y += 0.03\n",
    "    xDots.plot(t,movingBox.pos.x)\n",
    "    yDots.plot(t,movingBox.pos.y)"
   ]
  },
  {
   "cell_type": "code",
   "execution_count": null,
   "metadata": {},
   "outputs": [],
   "source": []
  }
 ],
 "metadata": {
  "kernelspec": {
   "display_name": "Python 3.7.3 64-bit",
   "language": "python",
   "name": "python37364bit76efab9664534672a28ea1adccafd7c1"
  },
  "language_info": {
   "codemirror_mode": {
    "name": "ipython",
    "version": 3
   },
   "file_extension": ".py",
   "mimetype": "text/x-python",
   "name": "python",
   "nbconvert_exporter": "python",
   "pygments_lexer": "ipython3",
   "version": "3.7.3"
  }
 },
 "nbformat": 4,
 "nbformat_minor": 2
}
