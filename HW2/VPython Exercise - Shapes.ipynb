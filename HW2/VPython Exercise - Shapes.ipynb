{
 "cells": [
  {
   "cell_type": "code",
   "execution_count": 2,
   "metadata": {},
   "outputs": [
    {
     "ename": "ModuleNotFoundError",
     "evalue": "No module named 'vpython'",
     "output_type": "error",
     "traceback": [
      "\u001b[0;31m---------------------------------------------------------------------------\u001b[0m",
      "\u001b[0;31mModuleNotFoundError\u001b[0m                       Traceback (most recent call last)",
      "\u001b[0;32m<ipython-input-2-93804d30ccca>\u001b[0m in \u001b[0;36m<module>\u001b[0;34m\u001b[0m\n\u001b[0;32m----> 1\u001b[0;31m \u001b[0;32mimport\u001b[0m \u001b[0mvpython\u001b[0m \u001b[0;32mas\u001b[0m \u001b[0mvp\u001b[0m\u001b[0;34m\u001b[0m\u001b[0;34m\u001b[0m\u001b[0m\n\u001b[0m\u001b[1;32m      2\u001b[0m \u001b[0;34m\u001b[0m\u001b[0m\n\u001b[1;32m      3\u001b[0m \u001b[0mscene\u001b[0m \u001b[0;34m=\u001b[0m \u001b[0mvp\u001b[0m\u001b[0;34m.\u001b[0m\u001b[0mcanvas\u001b[0m\u001b[0;34m(\u001b[0m\u001b[0mbackground\u001b[0m \u001b[0;34m=\u001b[0m \u001b[0mvp\u001b[0m\u001b[0;34m.\u001b[0m\u001b[0mcolor\u001b[0m\u001b[0;34m.\u001b[0m\u001b[0mwhite\u001b[0m\u001b[0;34m,\u001b[0m \u001b[0mwidth\u001b[0m\u001b[0;34m=\u001b[0m\u001b[0;36m600\u001b[0m\u001b[0;34m,\u001b[0m \u001b[0mheight\u001b[0m\u001b[0;34m=\u001b[0m\u001b[0;36m600\u001b[0m\u001b[0;34m)\u001b[0m\u001b[0;34m\u001b[0m\u001b[0;34m\u001b[0m\u001b[0m\n\u001b[1;32m      4\u001b[0m \u001b[0;34m\u001b[0m\u001b[0m\n\u001b[1;32m      5\u001b[0m \u001b[0;31m# Coordinate axes\u001b[0m\u001b[0;34m\u001b[0m\u001b[0;34m\u001b[0m\u001b[0;34m\u001b[0m\u001b[0m\n",
      "\u001b[0;31mModuleNotFoundError\u001b[0m: No module named 'vpython'"
     ]
    }
   ],
   "source": [
    "import vpython as vp\n",
    "\n",
    "scene = vp.canvas(background = vp.color.white, width=600, height=600)\n",
    "\n",
    "# Coordinate axes\n",
    "axisRadius = 0.01\n",
    "axisColor = vp.vector(0.5, 0.5, 0.5)\n",
    "xaxis = vp.cylinder(pos=vp.vector(-5,0,0), axis=vp.vector(10,0,0), radius = axisRadius, color=axisColor)\n",
    "yaxis = vp.cylinder(pos=vp.vector(0,-5,0), axis=vp.vector(0,10,0), radius = axisRadius, color=axisColor)\n",
    "zaxis = vp.cylinder(pos=vp.vector(0,0,-5), axis=vp.vector(0,0,10), radius = axisRadius, color=axisColor)\n",
    "xlabel = vp.label(pos=xaxis.pos + xaxis.axis, text='x', height=10, box=False)\n",
    "ylabel = vp.label(pos=yaxis.pos + yaxis.axis, text='y', height=10, box=False)\n",
    "zlabel = vp.label(pos=zaxis.pos + zaxis.axis, text='z', height=10, box=False)\n",
    "\n",
    "# Dumbbell\n",
    "length = 3\n",
    "bar = vp.cylinder(pos=vp.vector(-length/2,0,0), axis=vp.vector(length,0,0), radius=0.2, color=vp.color.orange)\n",
    "ball1 = vp.sphere(pos=bar.pos, radius=bar.radius*3, color=vp.vector(1,0.8,0))\n",
    "ball2 = vp.sphere(pos=bar.pos+bar.axis, radius=bar.radius*3, color=ball1.color)\n",
    "\n",
    "# Force\n",
    "magnitude = 2\n",
    "force = vp.arrow(pos=vp.vector(length/2,-magnitude-ball1.radius,0), axis=vp. vector(0,magnitude,0), color=vp.color.red, shaftwidth=0.2)\n",
    "\n",
    "# Torque\n",
    "torque = vp.arrow(pos=vp.vector(0,0,0), axis=vp.cross(ball1.pos, force.axis), color=vp.color.red, shaftwidth=0.2)\n"
   ]
  },
  {
   "cell_type": "code",
   "execution_count": null,
   "metadata": {},
   "outputs": [],
   "source": []
  }
 ],
 "metadata": {
  "kernelspec": {
   "display_name": "Python 3.7.4 64-bit ('base': conda)",
   "language": "python",
   "name": "python37464bitbaseconda9ce5ccae2053485482635e0741719550"
  },
  "language_info": {
   "codemirror_mode": {
    "name": "ipython",
    "version": 3
   },
   "file_extension": ".py",
   "mimetype": "text/x-python",
   "name": "python",
   "nbconvert_exporter": "python",
   "pygments_lexer": "ipython3",
   "version": "3.7.4-final"
  }
 },
 "nbformat": 4,
 "nbformat_minor": 2
}